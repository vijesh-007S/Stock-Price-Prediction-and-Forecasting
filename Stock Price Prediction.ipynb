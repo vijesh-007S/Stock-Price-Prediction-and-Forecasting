{
 "cells": [
  {
   "cell_type": "markdown",
   "metadata": {},
   "source": [
    "### Stock Market Prediction And Forecasting Using Stacked LSTM"
   ]
  },
  {
   "cell_type": "code",
   "execution_count": 4,
   "metadata": {},
   "outputs": [],
   "source": [
    "import pandas as pd"
   ]
  },
  {
   "cell_type": "code",
   "execution_count": 6,
   "metadata": {},
   "outputs": [],
   "source": [
    "data=pd.read_csv(\"E:/Projects/Stock Price Prediction/AAPL.csv\")"
   ]
  },
  {
   "cell_type": "code",
   "execution_count": 8,
   "metadata": {},
   "outputs": [
    {
     "data": {
      "text/html": [
       "<div>\n",
       "<style scoped>\n",
       "    .dataframe tbody tr th:only-of-type {\n",
       "        vertical-align: middle;\n",
       "    }\n",
       "\n",
       "    .dataframe tbody tr th {\n",
       "        vertical-align: top;\n",
       "    }\n",
       "\n",
       "    .dataframe thead th {\n",
       "        text-align: right;\n",
       "    }\n",
       "</style>\n",
       "<table border=\"1\" class=\"dataframe\">\n",
       "  <thead>\n",
       "    <tr style=\"text-align: right;\">\n",
       "      <th></th>\n",
       "      <th>Unnamed: 0</th>\n",
       "      <th>symbol</th>\n",
       "      <th>date</th>\n",
       "      <th>close</th>\n",
       "      <th>high</th>\n",
       "      <th>low</th>\n",
       "      <th>open</th>\n",
       "      <th>volume</th>\n",
       "      <th>adjClose</th>\n",
       "      <th>adjHigh</th>\n",
       "      <th>adjLow</th>\n",
       "      <th>adjOpen</th>\n",
       "      <th>adjVolume</th>\n",
       "      <th>divCash</th>\n",
       "      <th>splitFactor</th>\n",
       "    </tr>\n",
       "  </thead>\n",
       "  <tbody>\n",
       "    <tr>\n",
       "      <th>0</th>\n",
       "      <td>0</td>\n",
       "      <td>AAPL</td>\n",
       "      <td>2015-05-27 00:00:00+00:00</td>\n",
       "      <td>132.045</td>\n",
       "      <td>132.260</td>\n",
       "      <td>130.05</td>\n",
       "      <td>130.34</td>\n",
       "      <td>45833246</td>\n",
       "      <td>121.682558</td>\n",
       "      <td>121.880685</td>\n",
       "      <td>119.844118</td>\n",
       "      <td>120.111360</td>\n",
       "      <td>45833246</td>\n",
       "      <td>0.0</td>\n",
       "      <td>1.0</td>\n",
       "    </tr>\n",
       "    <tr>\n",
       "      <th>1</th>\n",
       "      <td>1</td>\n",
       "      <td>AAPL</td>\n",
       "      <td>2015-05-28 00:00:00+00:00</td>\n",
       "      <td>131.780</td>\n",
       "      <td>131.950</td>\n",
       "      <td>131.10</td>\n",
       "      <td>131.86</td>\n",
       "      <td>30733309</td>\n",
       "      <td>121.438354</td>\n",
       "      <td>121.595013</td>\n",
       "      <td>120.811718</td>\n",
       "      <td>121.512076</td>\n",
       "      <td>30733309</td>\n",
       "      <td>0.0</td>\n",
       "      <td>1.0</td>\n",
       "    </tr>\n",
       "    <tr>\n",
       "      <th>2</th>\n",
       "      <td>2</td>\n",
       "      <td>AAPL</td>\n",
       "      <td>2015-05-29 00:00:00+00:00</td>\n",
       "      <td>130.280</td>\n",
       "      <td>131.450</td>\n",
       "      <td>129.90</td>\n",
       "      <td>131.23</td>\n",
       "      <td>50884452</td>\n",
       "      <td>120.056069</td>\n",
       "      <td>121.134251</td>\n",
       "      <td>119.705890</td>\n",
       "      <td>120.931516</td>\n",
       "      <td>50884452</td>\n",
       "      <td>0.0</td>\n",
       "      <td>1.0</td>\n",
       "    </tr>\n",
       "    <tr>\n",
       "      <th>3</th>\n",
       "      <td>3</td>\n",
       "      <td>AAPL</td>\n",
       "      <td>2015-06-01 00:00:00+00:00</td>\n",
       "      <td>130.535</td>\n",
       "      <td>131.390</td>\n",
       "      <td>130.05</td>\n",
       "      <td>131.20</td>\n",
       "      <td>32112797</td>\n",
       "      <td>120.291057</td>\n",
       "      <td>121.078960</td>\n",
       "      <td>119.844118</td>\n",
       "      <td>120.903870</td>\n",
       "      <td>32112797</td>\n",
       "      <td>0.0</td>\n",
       "      <td>1.0</td>\n",
       "    </tr>\n",
       "    <tr>\n",
       "      <th>4</th>\n",
       "      <td>4</td>\n",
       "      <td>AAPL</td>\n",
       "      <td>2015-06-02 00:00:00+00:00</td>\n",
       "      <td>129.960</td>\n",
       "      <td>130.655</td>\n",
       "      <td>129.32</td>\n",
       "      <td>129.86</td>\n",
       "      <td>33667627</td>\n",
       "      <td>119.761181</td>\n",
       "      <td>120.401640</td>\n",
       "      <td>119.171406</td>\n",
       "      <td>119.669029</td>\n",
       "      <td>33667627</td>\n",
       "      <td>0.0</td>\n",
       "      <td>1.0</td>\n",
       "    </tr>\n",
       "  </tbody>\n",
       "</table>\n",
       "</div>"
      ],
      "text/plain": [
       "   Unnamed: 0 symbol                       date    close     high     low  \\\n",
       "0           0   AAPL  2015-05-27 00:00:00+00:00  132.045  132.260  130.05   \n",
       "1           1   AAPL  2015-05-28 00:00:00+00:00  131.780  131.950  131.10   \n",
       "2           2   AAPL  2015-05-29 00:00:00+00:00  130.280  131.450  129.90   \n",
       "3           3   AAPL  2015-06-01 00:00:00+00:00  130.535  131.390  130.05   \n",
       "4           4   AAPL  2015-06-02 00:00:00+00:00  129.960  130.655  129.32   \n",
       "\n",
       "     open    volume    adjClose     adjHigh      adjLow     adjOpen  \\\n",
       "0  130.34  45833246  121.682558  121.880685  119.844118  120.111360   \n",
       "1  131.86  30733309  121.438354  121.595013  120.811718  121.512076   \n",
       "2  131.23  50884452  120.056069  121.134251  119.705890  120.931516   \n",
       "3  131.20  32112797  120.291057  121.078960  119.844118  120.903870   \n",
       "4  129.86  33667627  119.761181  120.401640  119.171406  119.669029   \n",
       "\n",
       "   adjVolume  divCash  splitFactor  \n",
       "0   45833246      0.0          1.0  \n",
       "1   30733309      0.0          1.0  \n",
       "2   50884452      0.0          1.0  \n",
       "3   32112797      0.0          1.0  \n",
       "4   33667627      0.0          1.0  "
      ]
     },
     "execution_count": 8,
     "metadata": {},
     "output_type": "execute_result"
    }
   ],
   "source": [
    "data.head()"
   ]
  },
  {
   "cell_type": "code",
   "execution_count": 10,
   "metadata": {},
   "outputs": [
    {
     "data": {
      "text/html": [
       "<div>\n",
       "<style scoped>\n",
       "    .dataframe tbody tr th:only-of-type {\n",
       "        vertical-align: middle;\n",
       "    }\n",
       "\n",
       "    .dataframe tbody tr th {\n",
       "        vertical-align: top;\n",
       "    }\n",
       "\n",
       "    .dataframe thead th {\n",
       "        text-align: right;\n",
       "    }\n",
       "</style>\n",
       "<table border=\"1\" class=\"dataframe\">\n",
       "  <thead>\n",
       "    <tr style=\"text-align: right;\">\n",
       "      <th></th>\n",
       "      <th>Unnamed: 0</th>\n",
       "      <th>symbol</th>\n",
       "      <th>date</th>\n",
       "      <th>close</th>\n",
       "      <th>high</th>\n",
       "      <th>low</th>\n",
       "      <th>open</th>\n",
       "      <th>volume</th>\n",
       "      <th>adjClose</th>\n",
       "      <th>adjHigh</th>\n",
       "      <th>adjLow</th>\n",
       "      <th>adjOpen</th>\n",
       "      <th>adjVolume</th>\n",
       "      <th>divCash</th>\n",
       "      <th>splitFactor</th>\n",
       "    </tr>\n",
       "  </thead>\n",
       "  <tbody>\n",
       "    <tr>\n",
       "      <th>1253</th>\n",
       "      <td>1253</td>\n",
       "      <td>AAPL</td>\n",
       "      <td>2020-05-18 00:00:00+00:00</td>\n",
       "      <td>314.96</td>\n",
       "      <td>316.50</td>\n",
       "      <td>310.3241</td>\n",
       "      <td>313.17</td>\n",
       "      <td>33843125</td>\n",
       "      <td>314.96</td>\n",
       "      <td>316.50</td>\n",
       "      <td>310.3241</td>\n",
       "      <td>313.17</td>\n",
       "      <td>33843125</td>\n",
       "      <td>0.0</td>\n",
       "      <td>1.0</td>\n",
       "    </tr>\n",
       "    <tr>\n",
       "      <th>1254</th>\n",
       "      <td>1254</td>\n",
       "      <td>AAPL</td>\n",
       "      <td>2020-05-19 00:00:00+00:00</td>\n",
       "      <td>313.14</td>\n",
       "      <td>318.52</td>\n",
       "      <td>313.0100</td>\n",
       "      <td>315.03</td>\n",
       "      <td>25432385</td>\n",
       "      <td>313.14</td>\n",
       "      <td>318.52</td>\n",
       "      <td>313.0100</td>\n",
       "      <td>315.03</td>\n",
       "      <td>25432385</td>\n",
       "      <td>0.0</td>\n",
       "      <td>1.0</td>\n",
       "    </tr>\n",
       "    <tr>\n",
       "      <th>1255</th>\n",
       "      <td>1255</td>\n",
       "      <td>AAPL</td>\n",
       "      <td>2020-05-20 00:00:00+00:00</td>\n",
       "      <td>319.23</td>\n",
       "      <td>319.52</td>\n",
       "      <td>316.2000</td>\n",
       "      <td>316.68</td>\n",
       "      <td>27876215</td>\n",
       "      <td>319.23</td>\n",
       "      <td>319.52</td>\n",
       "      <td>316.2000</td>\n",
       "      <td>316.68</td>\n",
       "      <td>27876215</td>\n",
       "      <td>0.0</td>\n",
       "      <td>1.0</td>\n",
       "    </tr>\n",
       "    <tr>\n",
       "      <th>1256</th>\n",
       "      <td>1256</td>\n",
       "      <td>AAPL</td>\n",
       "      <td>2020-05-21 00:00:00+00:00</td>\n",
       "      <td>316.85</td>\n",
       "      <td>320.89</td>\n",
       "      <td>315.8700</td>\n",
       "      <td>318.66</td>\n",
       "      <td>25672211</td>\n",
       "      <td>316.85</td>\n",
       "      <td>320.89</td>\n",
       "      <td>315.8700</td>\n",
       "      <td>318.66</td>\n",
       "      <td>25672211</td>\n",
       "      <td>0.0</td>\n",
       "      <td>1.0</td>\n",
       "    </tr>\n",
       "    <tr>\n",
       "      <th>1257</th>\n",
       "      <td>1257</td>\n",
       "      <td>AAPL</td>\n",
       "      <td>2020-05-22 00:00:00+00:00</td>\n",
       "      <td>318.89</td>\n",
       "      <td>319.23</td>\n",
       "      <td>315.3500</td>\n",
       "      <td>315.77</td>\n",
       "      <td>20450754</td>\n",
       "      <td>318.89</td>\n",
       "      <td>319.23</td>\n",
       "      <td>315.3500</td>\n",
       "      <td>315.77</td>\n",
       "      <td>20450754</td>\n",
       "      <td>0.0</td>\n",
       "      <td>1.0</td>\n",
       "    </tr>\n",
       "  </tbody>\n",
       "</table>\n",
       "</div>"
      ],
      "text/plain": [
       "      Unnamed: 0 symbol                       date   close    high       low  \\\n",
       "1253        1253   AAPL  2020-05-18 00:00:00+00:00  314.96  316.50  310.3241   \n",
       "1254        1254   AAPL  2020-05-19 00:00:00+00:00  313.14  318.52  313.0100   \n",
       "1255        1255   AAPL  2020-05-20 00:00:00+00:00  319.23  319.52  316.2000   \n",
       "1256        1256   AAPL  2020-05-21 00:00:00+00:00  316.85  320.89  315.8700   \n",
       "1257        1257   AAPL  2020-05-22 00:00:00+00:00  318.89  319.23  315.3500   \n",
       "\n",
       "        open    volume  adjClose  adjHigh    adjLow  adjOpen  adjVolume  \\\n",
       "1253  313.17  33843125    314.96   316.50  310.3241   313.17   33843125   \n",
       "1254  315.03  25432385    313.14   318.52  313.0100   315.03   25432385   \n",
       "1255  316.68  27876215    319.23   319.52  316.2000   316.68   27876215   \n",
       "1256  318.66  25672211    316.85   320.89  315.8700   318.66   25672211   \n",
       "1257  315.77  20450754    318.89   319.23  315.3500   315.77   20450754   \n",
       "\n",
       "      divCash  splitFactor  \n",
       "1253      0.0          1.0  \n",
       "1254      0.0          1.0  \n",
       "1255      0.0          1.0  \n",
       "1256      0.0          1.0  \n",
       "1257      0.0          1.0  "
      ]
     },
     "execution_count": 10,
     "metadata": {},
     "output_type": "execute_result"
    }
   ],
   "source": [
    "data.tail()"
   ]
  },
  {
   "cell_type": "code",
   "execution_count": 12,
   "metadata": {},
   "outputs": [],
   "source": [
    "data=data['close']"
   ]
  },
  {
   "cell_type": "code",
   "execution_count": 14,
   "metadata": {},
   "outputs": [
    {
     "data": {
      "text/plain": [
       "0    132.045\n",
       "1    131.780\n",
       "2    130.280\n",
       "3    130.535\n",
       "4    129.960\n",
       "Name: close, dtype: float64"
      ]
     },
     "execution_count": 14,
     "metadata": {},
     "output_type": "execute_result"
    }
   ],
   "source": [
    "data.head()"
   ]
  },
  {
   "cell_type": "code",
   "execution_count": 16,
   "metadata": {},
   "outputs": [
    {
     "data": {
      "text/plain": [
       "[<matplotlib.lines.Line2D at 0x241fd6d3500>]"
      ]
     },
     "execution_count": 16,
     "metadata": {},
     "output_type": "execute_result"
    },
    {
     "data": {
      "image/png": "[encoded data removed]",
      "text/plain": [
       "<Figure size 640x480 with 1 Axes>"
      ]
     },
     "metadata": {},
     "output_type": "display_data"
    }
   ],
   "source": [
    "import matplotlib.pyplot as plt\n",
    "plt.plot(data)"
   ]
  },
  {
   "cell_type": "markdown",
   "metadata": {},
   "source": [
    "### LSTM are sensitive to the scale of the data. so we apply MinMax scaler :"
   ]
  },
  {
   "cell_type": "code",
   "execution_count": 18,
   "metadata": {},
   "outputs": [],
   "source": [
    "import numpy as np"
   ]
  },
  {
   "cell_type": "code",
   "execution_count": 19,
   "metadata": {},
   "outputs": [],
   "source": [
    "data = pd.DataFrame(data)"
   ]
  },
  {
   "cell_type": "code",
   "execution_count": 20,
   "metadata": {},
   "outputs": [
    {
     "data": {
      "text/html": [
       "<div>\n",
       "<style scoped>\n",
       "    .dataframe tbody tr th:only-of-type {\n",
       "        vertical-align: middle;\n",
       "    }\n",
       "\n",
       "    .dataframe tbody tr th {\n",
       "        vertical-align: top;\n",
       "    }\n",
       "\n",
       "    .dataframe thead th {\n",
       "        text-align: right;\n",
       "    }\n",
       "</style>\n",
       "<table border=\"1\" class=\"dataframe\">\n",
       "  <thead>\n",
       "    <tr style=\"text-align: right;\">\n",
       "      <th></th>\n",
       "      <th>close</th>\n",
       "    </tr>\n",
       "  </thead>\n",
       "  <tbody>\n",
       "    <tr>\n",
       "      <th>0</th>\n",
       "      <td>132.045</td>\n",
       "    </tr>\n",
       "    <tr>\n",
       "      <th>1</th>\n",
       "      <td>131.780</td>\n",
       "    </tr>\n",
       "    <tr>\n",
       "      <th>2</th>\n",
       "      <td>130.280</td>\n",
       "    </tr>\n",
       "    <tr>\n",
       "      <th>3</th>\n",
       "      <td>130.535</td>\n",
       "    </tr>\n",
       "    <tr>\n",
       "      <th>4</th>\n",
       "      <td>129.960</td>\n",
       "    </tr>\n",
       "  </tbody>\n",
       "</table>\n",
       "</div>"
      ],
      "text/plain": [
       "     close\n",
       "0  132.045\n",
       "1  131.780\n",
       "2  130.280\n",
       "3  130.535\n",
       "4  129.960"
      ]
     },
     "execution_count": 20,
     "metadata": {},
     "output_type": "execute_result"
    }
   ],
   "source": [
    "data.head()"
   ]
  },
  {
   "cell_type": "code",
   "execution_count": 21,
   "metadata": {},
   "outputs": [],
   "source": [
    "from sklearn.preprocessing import MinMaxScaler\n",
    "scaler=MinMaxScaler(feature_range=(0,1))\n",
    "data=scaler.fit_transform(data)"
   ]
  },
  {
   "cell_type": "code",
   "execution_count": 22,
   "metadata": {},
   "outputs": [
    {
     "data": {
      "text/plain": [
       "array([[0.17607447],\n",
       "       [0.17495567],\n",
       "       [0.16862282],\n",
       "       ...,\n",
       "       [0.96635143],\n",
       "       [0.9563033 ],\n",
       "       [0.96491598]])"
      ]
     },
     "execution_count": 22,
     "metadata": {},
     "output_type": "execute_result"
    }
   ],
   "source": [
    "data"
   ]
  },
  {
   "cell_type": "code",
   "execution_count": 23,
   "metadata": {},
   "outputs": [],
   "source": [
    "##splitting dataset into train and test split\n",
    "training_size=int(len(data)*0.8)\n",
    "test_size=len(data)-training_size\n",
    "train_data,test_data=data[0:training_size,:],data[training_size:len(data),:]"
   ]
  },
  {
   "cell_type": "code",
   "execution_count": 24,
   "metadata": {},
   "outputs": [
    {
     "data": {
      "text/plain": [
       "(1006, 252)"
      ]
     },
     "execution_count": 24,
     "metadata": {},
     "output_type": "execute_result"
    }
   ],
   "source": [
    "training_size,test_size"
   ]
  },
  {
   "cell_type": "code",
   "execution_count": 25,
   "metadata": {},
   "outputs": [],
   "source": [
    "import numpy\n",
    "# convert an array of values into a dataset matrix\n",
    "def create_dataset(dataset, time_step):\n",
    "\tdataX, dataY = [], []\n",
    "\tfor i in range(len(dataset)-time_step):\n",
    "\t\ta = dataset[i:(i+time_step), 0]   ###i=0, 0,1,2,3-----125   126\n",
    "\t\tdataX.append(a)\n",
    "\t\tdataY.append(dataset[i + time_step, 0])\n",
    "\treturn numpy.array(dataX), numpy.array(dataY)"
   ]
  },
  {
   "cell_type": "code",
   "execution_count": 26,
   "metadata": {},
   "outputs": [],
   "source": [
    "# reshape into X=t,t+1,t+2,t+3 and Y=t+4\n",
    "time_step = 126\n",
    "X_train, y_train = create_dataset(train_data, time_step)\n",
    "X_test, ytest = create_dataset(test_data, time_step)"
   ]
  },
  {
   "cell_type": "code",
   "execution_count": 27,
   "metadata": {},
   "outputs": [
    {
     "name": "stdout",
     "output_type": "stream",
     "text": [
      "(880, 126)\n",
      "(880,)\n"
     ]
    },
    {
     "data": {
      "text/plain": [
       "(None, None)"
      ]
     },
     "execution_count": 27,
     "metadata": {},
     "output_type": "execute_result"
    }
   ],
   "source": [
    "print(X_train.shape), print(y_train.shape)"
   ]
  },
  {
   "cell_type": "code",
   "execution_count": 32,
   "metadata": {},
   "outputs": [
    {
     "name": "stdout",
     "output_type": "stream",
     "text": [
      "(126, 126)\n",
      "(126,)\n"
     ]
    },
    {
     "data": {
      "text/plain": [
       "(None, None)"
      ]
     },
     "execution_count": 32,
     "metadata": {},
     "output_type": "execute_result"
    }
   ],
   "source": [
    "print(X_test.shape), print(ytest.shape)"
   ]
  },
  {
   "cell_type": "code",
   "execution_count": 33,
   "metadata": {},
   "outputs": [],
   "source": [
    "# reshape input to be [samples, time steps, features] which is required for LSTM\n",
    "X_train =X_train.reshape(X_train.shape[0],X_train.shape[1] , 1)\n",
    "X_test = X_test.reshape(X_test.shape[0],X_test.shape[1] , 1)"
   ]
  },
  {
   "cell_type": "code",
   "execution_count": 34,
   "metadata": {},
   "outputs": [],
   "source": [
    "### Create the Stacked LSTM model\n",
    "from tensorflow.keras.models import Sequential\n",
    "from tensorflow.keras.layers import Dense\n",
    "from tensorflow.keras.layers import LSTM"
   ]
  },
  {
   "cell_type": "code",
   "execution_count": 35,
   "metadata": {},
   "outputs": [
    {
     "name": "stderr",
     "output_type": "stream",
     "text": [
      "C:\\Users\\hp\\anaconda3\\Lib\\site-packages\\keras\\src\\layers\\rnn\\rnn.py:199: UserWarning: Do not pass an `input_shape`/`input_dim` argument to a layer. When using Sequential models, prefer using an `Input(shape)` object as the first layer in the model instead.\n",
      "  super().__init__(**kwargs)\n"
     ]
    }
   ],
   "source": [
    "model=Sequential()\n",
    "model.add(LSTM(50,return_sequences=True,input_shape=(100,1)))\n",
    "model.add(LSTM(50,return_sequences=True))\n",
    "model.add(LSTM(50))\n",
    "model.add(Dense(1))\n",
    "model.compile(loss='mean_squared_error',optimizer='adam')\n"
   ]
  },
  {
   "cell_type": "code",
   "execution_count": 36,
   "metadata": {
    "scrolled": true
   },
   "outputs": [
    {
     "data": {
      "text/html": [
       "<pre style=\"white-space:pre;overflow-x:auto;line-height:normal;font-family:Menlo,'DejaVu Sans Mono',consolas,'Courier New',monospace\"><span style=\"font-weight: bold\">Model: \"sequential\"</span>\n",
       "</pre>\n"
      ],
      "text/plain": [
       "\u001b[1mModel: \"sequential\"\u001b[0m\n"
      ]
     },
     "metadata": {},
     "output_type": "display_data"
    },
    {
     "data": {
      "text/html": [
       "<pre style=\"white-space:pre;overflow-x:auto;line-height:normal;font-family:Menlo,'DejaVu Sans Mono',consolas,'Courier New',monospace\">┏━━━━━━━━━━━━━━━━━━━━━━━━━━━━━━━━━━━━━━┳━━━━━━━━━━━━━━━━━━━━━━━━━━━━━┳━━━━━━━━━━━━━━━━━┓\n",
       "┃<span style=\"font-weight: bold\"> Layer (type)                         </span>┃<span style=\"font-weight: bold\"> Output Shape                </span>┃<span style=\"font-weight: bold\">         Param # </span>┃\n",
       "┡━━━━━━━━━━━━━━━━━━━━━━━━━━━━━━━━━━━━━━╇━━━━━━━━━━━━━━━━━━━━━━━━━━━━━╇━━━━━━━━━━━━━━━━━┩\n",
       "│ lstm (<span style=\"color: #0087ff; text-decoration-color: #0087ff\">LSTM</span>)                          │ (<span style=\"color: #00d7ff; text-decoration-color: #00d7ff\">None</span>, <span style=\"color: #00af00; text-decoration-color: #00af00\">100</span>, <span style=\"color: #00af00; text-decoration-color: #00af00\">50</span>)             │          <span style=\"color: #00af00; text-decoration-color: #00af00\">10,400</span> │\n",
       "├──────────────────────────────────────┼─────────────────────────────┼─────────────────┤\n",
       "│ lstm_1 (<span style=\"color: #0087ff; text-decoration-color: #0087ff\">LSTM</span>)                        │ (<span style=\"color: #00d7ff; text-decoration-color: #00d7ff\">None</span>, <span style=\"color: #00af00; text-decoration-color: #00af00\">100</span>, <span style=\"color: #00af00; text-decoration-color: #00af00\">50</span>)             │          <span style=\"color: #00af00; text-decoration-color: #00af00\">20,200</span> │\n",
       "├──────────────────────────────────────┼─────────────────────────────┼─────────────────┤\n",
       "│ lstm_2 (<span style=\"color: #0087ff; text-decoration-color: #0087ff\">LSTM</span>)                        │ (<span style=\"color: #00d7ff; text-decoration-color: #00d7ff\">None</span>, <span style=\"color: #00af00; text-decoration-color: #00af00\">50</span>)                  │          <span style=\"color: #00af00; text-decoration-color: #00af00\">20,200</span> │\n",
       "├──────────────────────────────────────┼─────────────────────────────┼─────────────────┤\n",
       "│ dense (<span style=\"color: #0087ff; text-decoration-color: #0087ff\">Dense</span>)                        │ (<span style=\"color: #00d7ff; text-decoration-color: #00d7ff\">None</span>, <span style=\"color: #00af00; text-decoration-color: #00af00\">1</span>)                   │              <span style=\"color: #00af00; text-decoration-color: #00af00\">51</span> │\n",
       "└──────────────────────────────────────┴─────────────────────────────┴─────────────────┘\n",
       "</pre>\n"
      ],
      "text/plain": [
       "┏━━━━━━━━━━━━━━━━━━━━━━━━━━━━━━━━━━━━━━┳━━━━━━━━━━━━━━━━━━━━━━━━━━━━━┳━━━━━━━━━━━━━━━━━┓\n",
       "┃\u001b[1m \u001b[0m\u001b[1mLayer (type)                        \u001b[0m\u001b[1m \u001b[0m┃\u001b[1m \u001b[0m\u001b[1mOutput Shape               \u001b[0m\u001b[1m \u001b[0m┃\u001b[1m \u001b[0m\u001b[1m        Param #\u001b[0m\u001b[1m \u001b[0m┃\n",
       "┡━━━━━━━━━━━━━━━━━━━━━━━━━━━━━━━━━━━━━━╇━━━━━━━━━━━━━━━━━━━━━━━━━━━━━╇━━━━━━━━━━━━━━━━━┩\n",
       "│ lstm (\u001b[38;5;33mLSTM\u001b[0m)                          │ (\u001b[38;5;45mNone\u001b[0m, \u001b[38;5;34m100\u001b[0m, \u001b[38;5;34m50\u001b[0m)             │          \u001b[38;5;34m10,400\u001b[0m │\n",
       "├──────────────────────────────────────┼─────────────────────────────┼─────────────────┤\n",
       "│ lstm_1 (\u001b[38;5;33mLSTM\u001b[0m)                        │ (\u001b[38;5;45mNone\u001b[0m, \u001b[38;5;34m100\u001b[0m, \u001b[38;5;34m50\u001b[0m)             │          \u001b[38;5;34m20,200\u001b[0m │\n",
       "├──────────────────────────────────────┼─────────────────────────────┼─────────────────┤\n",
       "│ lstm_2 (\u001b[38;5;33mLSTM\u001b[0m)                        │ (\u001b[38;5;45mNone\u001b[0m, \u001b[38;5;34m50\u001b[0m)                  │          \u001b[38;5;34m20,200\u001b[0m │\n",
       "├──────────────────────────────────────┼─────────────────────────────┼─────────────────┤\n",
       "│ dense (\u001b[38;5;33mDense\u001b[0m)                        │ (\u001b[38;5;45mNone\u001b[0m, \u001b[38;5;34m1\u001b[0m)                   │              \u001b[38;5;34m51\u001b[0m │\n",
       "└──────────────────────────────────────┴─────────────────────────────┴─────────────────┘\n"
      ]
     },
     "metadata": {},
     "output_type": "display_data"
    },
    {
     "data": {
      "text/html": [
       "<pre style=\"white-space:pre;overflow-x:auto;line-height:normal;font-family:Menlo,'DejaVu Sans Mono',consolas,'Courier New',monospace\"><span style=\"font-weight: bold\"> Total params: </span><span style=\"color: #00af00; text-decoration-color: #00af00\">50,851</span> (198.64 KB)\n",
       "</pre>\n"
      ],
      "text/plain": [
       "\u001b[1m Total params: \u001b[0m\u001b[38;5;34m50,851\u001b[0m (198.64 KB)\n"
      ]
     },
     "metadata": {},
     "output_type": "display_data"
    },
    {
     "data": {
      "text/html": [
       "<pre style=\"white-space:pre;overflow-x:auto;line-height:normal;font-family:Menlo,'DejaVu Sans Mono',consolas,'Courier New',monospace\"><span style=\"font-weight: bold\"> Trainable params: </span><span style=\"color: #00af00; text-decoration-color: #00af00\">50,851</span> (198.64 KB)\n",
       "</pre>\n"
      ],
      "text/plain": [
       "\u001b[1m Trainable params: \u001b[0m\u001b[38;5;34m50,851\u001b[0m (198.64 KB)\n"
      ]
     },
     "metadata": {},
     "output_type": "display_data"
    },
    {
     "data": {
      "text/html": [
       "<pre style=\"white-space:pre;overflow-x:auto;line-height:normal;font-family:Menlo,'DejaVu Sans Mono',consolas,'Courier New',monospace\"><span style=\"font-weight: bold\"> Non-trainable params: </span><span style=\"color: #00af00; text-decoration-color: #00af00\">0</span> (0.00 B)\n",
       "</pre>\n"
      ],
      "text/plain": [
       "\u001b[1m Non-trainable params: \u001b[0m\u001b[38;5;34m0\u001b[0m (0.00 B)\n"
      ]
     },
     "metadata": {},
     "output_type": "display_data"
    }
   ],
   "source": [
    "model.summary()"
   ]
  },
  {
   "cell_type": "code",
   "execution_count": 37,
   "metadata": {},
   "outputs": [
    {
     "data": {
      "text/html": [
       "<pre style=\"white-space:pre;overflow-x:auto;line-height:normal;font-family:Menlo,'DejaVu Sans Mono',consolas,'Courier New',monospace\"><span style=\"font-weight: bold\">Model: \"sequential\"</span>\n",
       "</pre>\n"
      ],
      "text/plain": [
       "\u001b[1mModel: \"sequential\"\u001b[0m\n"
      ]
     },
     "metadata": {},
     "output_type": "display_data"
    },
    {
     "data": {
      "text/html": [
       "<pre style=\"white-space:pre;overflow-x:auto;line-height:normal;font-family:Menlo,'DejaVu Sans Mono',consolas,'Courier New',monospace\">┏━━━━━━━━━━━━━━━━━━━━━━━━━━━━━━━━━━━━━━┳━━━━━━━━━━━━━━━━━━━━━━━━━━━━━┳━━━━━━━━━━━━━━━━━┓\n",
       "┃<span style=\"font-weight: bold\"> Layer (type)                         </span>┃<span style=\"font-weight: bold\"> Output Shape                </span>┃<span style=\"font-weight: bold\">         Param # </span>┃\n",
       "┡━━━━━━━━━━━━━━━━━━━━━━━━━━━━━━━━━━━━━━╇━━━━━━━━━━━━━━━━━━━━━━━━━━━━━╇━━━━━━━━━━━━━━━━━┩\n",
       "│ lstm (<span style=\"color: #0087ff; text-decoration-color: #0087ff\">LSTM</span>)                          │ (<span style=\"color: #00d7ff; text-decoration-color: #00d7ff\">None</span>, <span style=\"color: #00af00; text-decoration-color: #00af00\">100</span>, <span style=\"color: #00af00; text-decoration-color: #00af00\">50</span>)             │          <span style=\"color: #00af00; text-decoration-color: #00af00\">10,400</span> │\n",
       "├──────────────────────────────────────┼─────────────────────────────┼─────────────────┤\n",
       "│ lstm_1 (<span style=\"color: #0087ff; text-decoration-color: #0087ff\">LSTM</span>)                        │ (<span style=\"color: #00d7ff; text-decoration-color: #00d7ff\">None</span>, <span style=\"color: #00af00; text-decoration-color: #00af00\">100</span>, <span style=\"color: #00af00; text-decoration-color: #00af00\">50</span>)             │          <span style=\"color: #00af00; text-decoration-color: #00af00\">20,200</span> │\n",
       "├──────────────────────────────────────┼─────────────────────────────┼─────────────────┤\n",
       "│ lstm_2 (<span style=\"color: #0087ff; text-decoration-color: #0087ff\">LSTM</span>)                        │ (<span style=\"color: #00d7ff; text-decoration-color: #00d7ff\">None</span>, <span style=\"color: #00af00; text-decoration-color: #00af00\">50</span>)                  │          <span style=\"color: #00af00; text-decoration-color: #00af00\">20,200</span> │\n",
       "├──────────────────────────────────────┼─────────────────────────────┼─────────────────┤\n",
       "│ dense (<span style=\"color: #0087ff; text-decoration-color: #0087ff\">Dense</span>)                        │ (<span style=\"color: #00d7ff; text-decoration-color: #00d7ff\">None</span>, <span style=\"color: #00af00; text-decoration-color: #00af00\">1</span>)                   │              <span style=\"color: #00af00; text-decoration-color: #00af00\">51</span> │\n",
       "└──────────────────────────────────────┴─────────────────────────────┴─────────────────┘\n",
       "</pre>\n"
      ],
      "text/plain": [
       "┏━━━━━━━━━━━━━━━━━━━━━━━━━━━━━━━━━━━━━━┳━━━━━━━━━━━━━━━━━━━━━━━━━━━━━┳━━━━━━━━━━━━━━━━━┓\n",
       "┃\u001b[1m \u001b[0m\u001b[1mLayer (type)                        \u001b[0m\u001b[1m \u001b[0m┃\u001b[1m \u001b[0m\u001b[1mOutput Shape               \u001b[0m\u001b[1m \u001b[0m┃\u001b[1m \u001b[0m\u001b[1m        Param #\u001b[0m\u001b[1m \u001b[0m┃\n",
       "┡━━━━━━━━━━━━━━━━━━━━━━━━━━━━━━━━━━━━━━╇━━━━━━━━━━━━━━━━━━━━━━━━━━━━━╇━━━━━━━━━━━━━━━━━┩\n",
       "│ lstm (\u001b[38;5;33mLSTM\u001b[0m)                          │ (\u001b[38;5;45mNone\u001b[0m, \u001b[38;5;34m100\u001b[0m, \u001b[38;5;34m50\u001b[0m)             │          \u001b[38;5;34m10,400\u001b[0m │\n",
       "├──────────────────────────────────────┼─────────────────────────────┼─────────────────┤\n",
       "│ lstm_1 (\u001b[38;5;33mLSTM\u001b[0m)                        │ (\u001b[38;5;45mNone\u001b[0m, \u001b[38;5;34m100\u001b[0m, \u001b[38;5;34m50\u001b[0m)             │          \u001b[38;5;34m20,200\u001b[0m │\n",
       "├──────────────────────────────────────┼─────────────────────────────┼─────────────────┤\n",
       "│ lstm_2 (\u001b[38;5;33mLSTM\u001b[0m)                        │ (\u001b[38;5;45mNone\u001b[0m, \u001b[38;5;34m50\u001b[0m)                  │          \u001b[38;5;34m20,200\u001b[0m │\n",
       "├──────────────────────────────────────┼─────────────────────────────┼─────────────────┤\n",
       "│ dense (\u001b[38;5;33mDense\u001b[0m)                        │ (\u001b[38;5;45mNone\u001b[0m, \u001b[38;5;34m1\u001b[0m)                   │              \u001b[38;5;34m51\u001b[0m │\n",
       "└──────────────────────────────────────┴─────────────────────────────┴─────────────────┘\n"
      ]
     },
     "metadata": {},
     "output_type": "display_data"
    },
    {
     "data": {
      "text/html": [
       "<pre style=\"white-space:pre;overflow-x:auto;line-height:normal;font-family:Menlo,'DejaVu Sans Mono',consolas,'Courier New',monospace\"><span style=\"font-weight: bold\"> Total params: </span><span style=\"color: #00af00; text-decoration-color: #00af00\">50,851</span> (198.64 KB)\n",
       "</pre>\n"
      ],
      "text/plain": [
       "\u001b[1m Total params: \u001b[0m\u001b[38;5;34m50,851\u001b[0m (198.64 KB)\n"
      ]
     },
     "metadata": {},
     "output_type": "display_data"
    },
    {
     "data": {
      "text/html": [
       "<pre style=\"white-space:pre;overflow-x:auto;line-height:normal;font-family:Menlo,'DejaVu Sans Mono',consolas,'Courier New',monospace\"><span style=\"font-weight: bold\"> Trainable params: </span><span style=\"color: #00af00; text-decoration-color: #00af00\">50,851</span> (198.64 KB)\n",
       "</pre>\n"
      ],
      "text/plain": [
       "\u001b[1m Trainable params: \u001b[0m\u001b[38;5;34m50,851\u001b[0m (198.64 KB)\n"
      ]
     },
     "metadata": {},
     "output_type": "display_data"
    },
    {
     "data": {
      "text/html": [
       "<pre style=\"white-space:pre;overflow-x:auto;line-height:normal;font-family:Menlo,'DejaVu Sans Mono',consolas,'Courier New',monospace\"><span style=\"font-weight: bold\"> Non-trainable params: </span><span style=\"color: #00af00; text-decoration-color: #00af00\">0</span> (0.00 B)\n",
       "</pre>\n"
      ],
      "text/plain": [
       "\u001b[1m Non-trainable params: \u001b[0m\u001b[38;5;34m0\u001b[0m (0.00 B)\n"
      ]
     },
     "metadata": {},
     "output_type": "display_data"
    }
   ],
   "source": [
    "model.summary()"
   ]
  },
  {
   "cell_type": "code",
   "execution_count": 38,
   "metadata": {},
   "outputs": [
    {
     "name": "stdout",
     "output_type": "stream",
     "text": [
      "Epoch 1/100\n",
      "\u001b[1m14/14\u001b[0m \u001b[32m━━━━━━━━━━━━━━━━━━━━\u001b[0m\u001b[37m\u001b[0m \u001b[1m17s\u001b[0m 351ms/step - loss: 0.0494 - val_loss: 0.1348\n",
      "Epoch 2/100\n",
      "\u001b[1m14/14\u001b[0m \u001b[32m━━━━━━━━━━━━━━━━━━━━\u001b[0m\u001b[37m\u001b[0m \u001b[1m6s\u001b[0m 448ms/step - loss: 0.0077 - val_loss: 0.0109\n",
      "Epoch 3/100\n",
      "\u001b[1m14/14\u001b[0m \u001b[32m━━━━━━━━━━━━━━━━━━━━\u001b[0m\u001b[37m\u001b[0m \u001b[1m3s\u001b[0m 207ms/step - loss: 0.0022 - val_loss: 0.0078\n",
      "Epoch 4/100\n",
      "\u001b[1m14/14\u001b[0m \u001b[32m━━━━━━━━━━━━━━━━━━━━\u001b[0m\u001b[37m\u001b[0m \u001b[1m5s\u001b[0m 366ms/step - loss: 0.0016 - val_loss: 0.0072\n",
      "Epoch 5/100\n",
      "\u001b[1m14/14\u001b[0m \u001b[32m━━━━━━━━━━━━━━━━━━━━\u001b[0m\u001b[37m\u001b[0m \u001b[1m3s\u001b[0m 230ms/step - loss: 0.0012 - val_loss: 0.0087\n",
      "Epoch 6/100\n",
      "\u001b[1m14/14\u001b[0m \u001b[32m━━━━━━━━━━━━━━━━━━━━\u001b[0m\u001b[37m\u001b[0m \u001b[1m5s\u001b[0m 219ms/step - loss: 9.4219e-04 - val_loss: 0.0079\n",
      "Epoch 7/100\n",
      "\u001b[1m14/14\u001b[0m \u001b[32m━━━━━━━━━━━━━━━━━━━━\u001b[0m\u001b[37m\u001b[0m \u001b[1m5s\u001b[0m 203ms/step - loss: 9.1763e-04 - val_loss: 0.0096\n",
      "Epoch 8/100\n",
      "\u001b[1m14/14\u001b[0m \u001b[32m━━━━━━━━━━━━━━━━━━━━\u001b[0m\u001b[37m\u001b[0m \u001b[1m5s\u001b[0m 375ms/step - loss: 8.8433e-04 - val_loss: 0.0112\n",
      "Epoch 9/100\n",
      "\u001b[1m14/14\u001b[0m \u001b[32m━━━━━━━━━━━━━━━━━━━━\u001b[0m\u001b[37m\u001b[0m \u001b[1m3s\u001b[0m 205ms/step - loss: 8.3670e-04 - val_loss: 0.0120\n",
      "Epoch 10/100\n",
      "\u001b[1m14/14\u001b[0m \u001b[32m━━━━━━━━━━━━━━━━━━━━\u001b[0m\u001b[37m\u001b[0m \u001b[1m5s\u001b[0m 384ms/step - loss: 7.8207e-04 - val_loss: 0.0096\n",
      "Epoch 11/100\n",
      "\u001b[1m14/14\u001b[0m \u001b[32m━━━━━━━━━━━━━━━━━━━━\u001b[0m\u001b[37m\u001b[0m \u001b[1m9s\u001b[0m 273ms/step - loss: 6.7556e-04 - val_loss: 0.0131\n",
      "Epoch 12/100\n",
      "\u001b[1m14/14\u001b[0m \u001b[32m━━━━━━━━━━━━━━━━━━━━\u001b[0m\u001b[37m\u001b[0m \u001b[1m4s\u001b[0m 213ms/step - loss: 7.1476e-04 - val_loss: 0.0092\n",
      "Epoch 13/100\n",
      "\u001b[1m14/14\u001b[0m \u001b[32m━━━━━━━━━━━━━━━━━━━━\u001b[0m\u001b[37m\u001b[0m \u001b[1m4s\u001b[0m 259ms/step - loss: 5.8365e-04 - val_loss: 0.0077\n",
      "Epoch 14/100\n",
      "\u001b[1m14/14\u001b[0m \u001b[32m━━━━━━━━━━━━━━━━━━━━\u001b[0m\u001b[37m\u001b[0m \u001b[1m3s\u001b[0m 230ms/step - loss: 6.4882e-04 - val_loss: 0.0108\n",
      "Epoch 15/100\n",
      "\u001b[1m14/14\u001b[0m \u001b[32m━━━━━━━━━━━━━━━━━━━━\u001b[0m\u001b[37m\u001b[0m \u001b[1m6s\u001b[0m 411ms/step - loss: 5.7003e-04 - val_loss: 0.0071\n",
      "Epoch 16/100\n",
      "\u001b[1m14/14\u001b[0m \u001b[32m━━━━━━━━━━━━━━━━━━━━\u001b[0m\u001b[37m\u001b[0m \u001b[1m4s\u001b[0m 244ms/step - loss: 6.3181e-04 - val_loss: 0.0105\n",
      "Epoch 17/100\n",
      "\u001b[1m14/14\u001b[0m \u001b[32m━━━━━━━━━━━━━━━━━━━━\u001b[0m\u001b[37m\u001b[0m \u001b[1m5s\u001b[0m 224ms/step - loss: 6.1713e-04 - val_loss: 0.0116\n",
      "Epoch 18/100\n",
      "\u001b[1m14/14\u001b[0m \u001b[32m━━━━━━━━━━━━━━━━━━━━\u001b[0m\u001b[37m\u001b[0m \u001b[1m5s\u001b[0m 377ms/step - loss: 5.9253e-04 - val_loss: 0.0121\n",
      "Epoch 19/100\n",
      "\u001b[1m14/14\u001b[0m \u001b[32m━━━━━━━━━━━━━━━━━━━━\u001b[0m\u001b[37m\u001b[0m \u001b[1m5s\u001b[0m 372ms/step - loss: 5.9474e-04 - val_loss: 0.0060\n",
      "Epoch 20/100\n",
      "\u001b[1m14/14\u001b[0m \u001b[32m━━━━━━━━━━━━━━━━━━━━\u001b[0m\u001b[37m\u001b[0m \u001b[1m5s\u001b[0m 386ms/step - loss: 5.5493e-04 - val_loss: 0.0102\n",
      "Epoch 21/100\n",
      "\u001b[1m14/14\u001b[0m \u001b[32m━━━━━━━━━━━━━━━━━━━━\u001b[0m\u001b[37m\u001b[0m \u001b[1m5s\u001b[0m 380ms/step - loss: 5.9149e-04 - val_loss: 0.0108\n",
      "Epoch 22/100\n",
      "\u001b[1m14/14\u001b[0m \u001b[32m━━━━━━━━━━━━━━━━━━━━\u001b[0m\u001b[37m\u001b[0m \u001b[1m5s\u001b[0m 390ms/step - loss: 5.5305e-04 - val_loss: 0.0124\n",
      "Epoch 23/100\n",
      "\u001b[1m14/14\u001b[0m \u001b[32m━━━━━━━━━━━━━━━━━━━━\u001b[0m\u001b[37m\u001b[0m \u001b[1m5s\u001b[0m 338ms/step - loss: 5.9334e-04 - val_loss: 0.0038\n",
      "Epoch 24/100\n",
      "\u001b[1m14/14\u001b[0m \u001b[32m━━━━━━━━━━━━━━━━━━━━\u001b[0m\u001b[37m\u001b[0m \u001b[1m6s\u001b[0m 398ms/step - loss: 5.4805e-04 - val_loss: 0.0061\n",
      "Epoch 25/100\n",
      "\u001b[1m14/14\u001b[0m \u001b[32m━━━━━━━━━━━━━━━━━━━━\u001b[0m\u001b[37m\u001b[0m \u001b[1m5s\u001b[0m 380ms/step - loss: 5.4447e-04 - val_loss: 0.0114\n",
      "Epoch 26/100\n",
      "\u001b[1m14/14\u001b[0m \u001b[32m━━━━━━━━━━━━━━━━━━━━\u001b[0m\u001b[37m\u001b[0m \u001b[1m5s\u001b[0m 383ms/step - loss: 5.7216e-04 - val_loss: 0.0036\n",
      "Epoch 27/100\n",
      "\u001b[1m14/14\u001b[0m \u001b[32m━━━━━━━━━━━━━━━━━━━━\u001b[0m\u001b[37m\u001b[0m \u001b[1m5s\u001b[0m 385ms/step - loss: 5.8560e-04 - val_loss: 0.0100\n",
      "Epoch 28/100\n",
      "\u001b[1m14/14\u001b[0m \u001b[32m━━━━━━━━━━━━━━━━━━━━\u001b[0m\u001b[37m\u001b[0m \u001b[1m5s\u001b[0m 382ms/step - loss: 5.1729e-04 - val_loss: 0.0045\n",
      "Epoch 29/100\n",
      "\u001b[1m14/14\u001b[0m \u001b[32m━━━━━━━━━━━━━━━━━━━━\u001b[0m\u001b[37m\u001b[0m \u001b[1m5s\u001b[0m 354ms/step - loss: 4.6449e-04 - val_loss: 0.0051\n",
      "Epoch 30/100\n",
      "\u001b[1m14/14\u001b[0m \u001b[32m━━━━━━━━━━━━━━━━━━━━\u001b[0m\u001b[37m\u001b[0m \u001b[1m6s\u001b[0m 390ms/step - loss: 4.8647e-04 - val_loss: 0.0050\n",
      "Epoch 31/100\n",
      "\u001b[1m14/14\u001b[0m \u001b[32m━━━━━━━━━━━━━━━━━━━━\u001b[0m\u001b[37m\u001b[0m \u001b[1m5s\u001b[0m 382ms/step - loss: 4.8580e-04 - val_loss: 0.0046\n",
      "Epoch 32/100\n",
      "\u001b[1m14/14\u001b[0m \u001b[32m━━━━━━━━━━━━━━━━━━━━\u001b[0m\u001b[37m\u001b[0m \u001b[1m9s\u001b[0m 273ms/step - loss: 5.1169e-04 - val_loss: 0.0043\n",
      "Epoch 33/100\n",
      "\u001b[1m14/14\u001b[0m \u001b[32m━━━━━━━━━━━━━━━━━━━━\u001b[0m\u001b[37m\u001b[0m \u001b[1m5s\u001b[0m 387ms/step - loss: 4.5210e-04 - val_loss: 0.0050\n",
      "Epoch 34/100\n",
      "\u001b[1m14/14\u001b[0m \u001b[32m━━━━━━━━━━━━━━━━━━━━\u001b[0m\u001b[37m\u001b[0m \u001b[1m8s\u001b[0m 222ms/step - loss: 4.9179e-04 - val_loss: 0.0034\n",
      "Epoch 35/100\n",
      "\u001b[1m14/14\u001b[0m \u001b[32m━━━━━━━━━━━━━━━━━━━━\u001b[0m\u001b[37m\u001b[0m \u001b[1m3s\u001b[0m 218ms/step - loss: 4.5356e-04 - val_loss: 0.0039\n",
      "Epoch 36/100\n",
      "\u001b[1m14/14\u001b[0m \u001b[32m━━━━━━━━━━━━━━━━━━━━\u001b[0m\u001b[37m\u001b[0m \u001b[1m3s\u001b[0m 202ms/step - loss: 4.3750e-04 - val_loss: 0.0050\n",
      "Epoch 37/100\n",
      "\u001b[1m14/14\u001b[0m \u001b[32m━━━━━━━━━━━━━━━━━━━━\u001b[0m\u001b[37m\u001b[0m \u001b[1m5s\u001b[0m 388ms/step - loss: 4.1779e-04 - val_loss: 0.0035\n",
      "Epoch 38/100\n",
      "\u001b[1m14/14\u001b[0m \u001b[32m━━━━━━━━━━━━━━━━━━━━\u001b[0m\u001b[37m\u001b[0m \u001b[1m8s\u001b[0m 202ms/step - loss: 4.4890e-04 - val_loss: 0.0033\n",
      "Epoch 39/100\n",
      "\u001b[1m14/14\u001b[0m \u001b[32m━━━━━━━━━━━━━━━━━━━━\u001b[0m\u001b[37m\u001b[0m \u001b[1m3s\u001b[0m 249ms/step - loss: 4.2070e-04 - val_loss: 0.0033\n",
      "Epoch 40/100\n",
      "\u001b[1m14/14\u001b[0m \u001b[32m━━━━━━━━━━━━━━━━━━━━\u001b[0m\u001b[37m\u001b[0m \u001b[1m6s\u001b[0m 435ms/step - loss: 4.5748e-04 - val_loss: 0.0050\n",
      "Epoch 41/100\n",
      "\u001b[1m14/14\u001b[0m \u001b[32m━━━━━━━━━━━━━━━━━━━━\u001b[0m\u001b[37m\u001b[0m \u001b[1m3s\u001b[0m 197ms/step - loss: 4.0675e-04 - val_loss: 0.0030\n",
      "Epoch 42/100\n",
      "\u001b[1m14/14\u001b[0m \u001b[32m━━━━━━━━━━━━━━━━━━━━\u001b[0m\u001b[37m\u001b[0m \u001b[1m5s\u001b[0m 345ms/step - loss: 4.0184e-04 - val_loss: 0.0039\n",
      "Epoch 43/100\n",
      "\u001b[1m14/14\u001b[0m \u001b[32m━━━━━━━━━━━━━━━━━━━━\u001b[0m\u001b[37m\u001b[0m \u001b[1m3s\u001b[0m 199ms/step - loss: 4.5577e-04 - val_loss: 0.0046\n",
      "Epoch 44/100\n",
      "\u001b[1m14/14\u001b[0m \u001b[32m━━━━━━━━━━━━━━━━━━━━\u001b[0m\u001b[37m\u001b[0m \u001b[1m5s\u001b[0m 343ms/step - loss: 3.9243e-04 - val_loss: 0.0028\n",
      "Epoch 45/100\n",
      "\u001b[1m14/14\u001b[0m \u001b[32m━━━━━━━━━━━━━━━━━━━━\u001b[0m\u001b[37m\u001b[0m \u001b[1m5s\u001b[0m 290ms/step - loss: 3.8838e-04 - val_loss: 0.0035\n",
      "Epoch 46/100\n",
      "\u001b[1m14/14\u001b[0m \u001b[32m━━━━━━━━━━━━━━━━━━━━\u001b[0m\u001b[37m\u001b[0m \u001b[1m4s\u001b[0m 217ms/step - loss: 3.9539e-04 - val_loss: 0.0028\n",
      "Epoch 47/100\n",
      "\u001b[1m14/14\u001b[0m \u001b[32m━━━━━━━━━━━━━━━━━━━━\u001b[0m\u001b[37m\u001b[0m \u001b[1m5s\u001b[0m 372ms/step - loss: 4.2153e-04 - val_loss: 0.0028\n",
      "Epoch 48/100\n",
      "\u001b[1m14/14\u001b[0m \u001b[32m━━━━━━━━━━━━━━━━━━━━\u001b[0m\u001b[37m\u001b[0m \u001b[1m3s\u001b[0m 214ms/step - loss: 4.1035e-04 - val_loss: 0.0027\n",
      "Epoch 49/100\n",
      "\u001b[1m14/14\u001b[0m \u001b[32m━━━━━━━━━━━━━━━━━━━━\u001b[0m\u001b[37m\u001b[0m \u001b[1m5s\u001b[0m 392ms/step - loss: 4.3053e-04 - val_loss: 0.0034\n",
      "Epoch 50/100\n",
      "\u001b[1m14/14\u001b[0m \u001b[32m━━━━━━━━━━━━━━━━━━━━\u001b[0m\u001b[37m\u001b[0m \u001b[1m3s\u001b[0m 204ms/step - loss: 3.9946e-04 - val_loss: 0.0031\n",
      "Epoch 51/100\n",
      "\u001b[1m14/14\u001b[0m \u001b[32m━━━━━━━━━━━━━━━━━━━━\u001b[0m\u001b[37m\u001b[0m \u001b[1m5s\u001b[0m 199ms/step - loss: 3.8988e-04 - val_loss: 0.0029\n",
      "Epoch 52/100\n",
      "\u001b[1m14/14\u001b[0m \u001b[32m━━━━━━━━━━━━━━━━━━━━\u001b[0m\u001b[37m\u001b[0m \u001b[1m5s\u001b[0m 345ms/step - loss: 3.5737e-04 - val_loss: 0.0032\n",
      "Epoch 53/100\n",
      "\u001b[1m14/14\u001b[0m \u001b[32m━━━━━━━━━━━━━━━━━━━━\u001b[0m\u001b[37m\u001b[0m \u001b[1m3s\u001b[0m 211ms/step - loss: 3.2424e-04 - val_loss: 0.0024\n",
      "Epoch 54/100\n",
      "\u001b[1m14/14\u001b[0m \u001b[32m━━━━━━━━━━━━━━━━━━━━\u001b[0m\u001b[37m\u001b[0m \u001b[1m5s\u001b[0m 387ms/step - loss: 3.5354e-04 - val_loss: 0.0024\n",
      "Epoch 55/100\n",
      "\u001b[1m14/14\u001b[0m \u001b[32m━━━━━━━━━━━━━━━━━━━━\u001b[0m\u001b[37m\u001b[0m \u001b[1m3s\u001b[0m 188ms/step - loss: 3.3653e-04 - val_loss: 0.0024\n",
      "Epoch 56/100\n",
      "\u001b[1m14/14\u001b[0m \u001b[32m━━━━━━━━━━━━━━━━━━━━\u001b[0m\u001b[37m\u001b[0m \u001b[1m5s\u001b[0m 359ms/step - loss: 3.5147e-04 - val_loss: 0.0028\n",
      "Epoch 57/100\n",
      "\u001b[1m14/14\u001b[0m \u001b[32m━━━━━━━━━━━━━━━━━━━━\u001b[0m\u001b[37m\u001b[0m \u001b[1m3s\u001b[0m 196ms/step - loss: 3.7365e-04 - val_loss: 0.0025\n",
      "Epoch 58/100\n",
      "\u001b[1m14/14\u001b[0m \u001b[32m━━━━━━━━━━━━━━━━━━━━\u001b[0m\u001b[37m\u001b[0m \u001b[1m5s\u001b[0m 342ms/step - loss: 3.2279e-04 - val_loss: 0.0023\n",
      "Epoch 59/100\n",
      "\u001b[1m14/14\u001b[0m \u001b[32m━━━━━━━━━━━━━━━━━━━━\u001b[0m\u001b[37m\u001b[0m \u001b[1m5s\u001b[0m 370ms/step - loss: 3.0152e-04 - val_loss: 0.0026\n",
      "Epoch 60/100\n",
      "\u001b[1m14/14\u001b[0m \u001b[32m━━━━━━━━━━━━━━━━━━━━\u001b[0m\u001b[37m\u001b[0m \u001b[1m5s\u001b[0m 386ms/step - loss: 3.4447e-04 - val_loss: 0.0024\n",
      "Epoch 61/100\n",
      "\u001b[1m14/14\u001b[0m \u001b[32m━━━━━━━━━━━━━━━━━━━━\u001b[0m\u001b[37m\u001b[0m \u001b[1m6s\u001b[0m 401ms/step - loss: 3.4295e-04 - val_loss: 0.0024\n",
      "Epoch 62/100\n",
      "\u001b[1m14/14\u001b[0m \u001b[32m━━━━━━━━━━━━━━━━━━━━\u001b[0m\u001b[37m\u001b[0m \u001b[1m6s\u001b[0m 398ms/step - loss: 3.1839e-04 - val_loss: 0.0030\n",
      "Epoch 63/100\n",
      "\u001b[1m14/14\u001b[0m \u001b[32m━━━━━━━━━━━━━━━━━━━━\u001b[0m\u001b[37m\u001b[0m \u001b[1m6s\u001b[0m 390ms/step - loss: 3.6412e-04 - val_loss: 0.0025\n",
      "Epoch 64/100\n",
      "\u001b[1m14/14\u001b[0m \u001b[32m━━━━━━━━━━━━━━━━━━━━\u001b[0m\u001b[37m\u001b[0m \u001b[1m5s\u001b[0m 383ms/step - loss: 3.8251e-04 - val_loss: 0.0021\n",
      "Epoch 65/100\n",
      "\u001b[1m14/14\u001b[0m \u001b[32m━━━━━━━━━━━━━━━━━━━━\u001b[0m\u001b[37m\u001b[0m \u001b[1m5s\u001b[0m 377ms/step - loss: 3.8160e-04 - val_loss: 0.0022\n",
      "Epoch 66/100\n",
      "\u001b[1m14/14\u001b[0m \u001b[32m━━━━━━━━━━━━━━━━━━━━\u001b[0m\u001b[37m\u001b[0m \u001b[1m5s\u001b[0m 389ms/step - loss: 3.4338e-04 - val_loss: 0.0024\n",
      "Epoch 67/100\n",
      "\u001b[1m14/14\u001b[0m \u001b[32m━━━━━━━━━━━━━━━━━━━━\u001b[0m\u001b[37m\u001b[0m \u001b[1m5s\u001b[0m 385ms/step - loss: 2.7811e-04 - val_loss: 0.0021\n",
      "Epoch 68/100\n",
      "\u001b[1m14/14\u001b[0m \u001b[32m━━━━━━━━━━━━━━━━━━━━\u001b[0m\u001b[37m\u001b[0m \u001b[1m6s\u001b[0m 393ms/step - loss: 2.7001e-04 - val_loss: 0.0026\n",
      "Epoch 69/100\n",
      "\u001b[1m14/14\u001b[0m \u001b[32m━━━━━━━━━━━━━━━━━━━━\u001b[0m\u001b[37m\u001b[0m \u001b[1m6s\u001b[0m 391ms/step - loss: 2.8501e-04 - val_loss: 0.0026\n",
      "Epoch 70/100\n",
      "\u001b[1m14/14\u001b[0m \u001b[32m━━━━━━━━━━━━━━━━━━━━\u001b[0m\u001b[37m\u001b[0m \u001b[1m5s\u001b[0m 388ms/step - loss: 2.9737e-04 - val_loss: 0.0032\n",
      "Epoch 71/100\n",
      "\u001b[1m14/14\u001b[0m \u001b[32m━━━━━━━━━━━━━━━━━━━━\u001b[0m\u001b[37m\u001b[0m \u001b[1m5s\u001b[0m 382ms/step - loss: 2.7065e-04 - val_loss: 0.0030\n",
      "Epoch 72/100\n",
      "\u001b[1m14/14\u001b[0m \u001b[32m━━━━━━━━━━━━━━━━━━━━\u001b[0m\u001b[37m\u001b[0m \u001b[1m5s\u001b[0m 383ms/step - loss: 2.9837e-04 - val_loss: 0.0034\n",
      "Epoch 73/100\n",
      "\u001b[1m14/14\u001b[0m \u001b[32m━━━━━━━━━━━━━━━━━━━━\u001b[0m\u001b[37m\u001b[0m \u001b[1m5s\u001b[0m 367ms/step - loss: 2.7807e-04 - val_loss: 0.0021\n",
      "Epoch 74/100\n",
      "\u001b[1m14/14\u001b[0m \u001b[32m━━━━━━━━━━━━━━━━━━━━\u001b[0m\u001b[37m\u001b[0m \u001b[1m6s\u001b[0m 413ms/step - loss: 2.5057e-04 - val_loss: 0.0021\n",
      "Epoch 75/100\n",
      "\u001b[1m14/14\u001b[0m \u001b[32m━━━━━━━━━━━━━━━━━━━━\u001b[0m\u001b[37m\u001b[0m \u001b[1m3s\u001b[0m 193ms/step - loss: 2.8721e-04 - val_loss: 0.0020\n",
      "Epoch 76/100\n",
      "\u001b[1m14/14\u001b[0m \u001b[32m━━━━━━━━━━━━━━━━━━━━\u001b[0m\u001b[37m\u001b[0m \u001b[1m5s\u001b[0m 358ms/step - loss: 2.5449e-04 - val_loss: 0.0020\n",
      "Epoch 77/100\n",
      "\u001b[1m14/14\u001b[0m \u001b[32m━━━━━━━━━━━━━━━━━━━━\u001b[0m\u001b[37m\u001b[0m \u001b[1m3s\u001b[0m 215ms/step - loss: 2.5468e-04 - val_loss: 0.0020\n",
      "Epoch 78/100\n",
      "\u001b[1m14/14\u001b[0m \u001b[32m━━━━━━━━━━━━━━━━━━━━\u001b[0m\u001b[37m\u001b[0m \u001b[1m5s\u001b[0m 210ms/step - loss: 2.7637e-04 - val_loss: 0.0020\n",
      "Epoch 79/100\n",
      "\u001b[1m14/14\u001b[0m \u001b[32m━━━━━━━━━━━━━━━━━━━━\u001b[0m\u001b[37m\u001b[0m \u001b[1m5s\u001b[0m 376ms/step - loss: 2.4653e-04 - val_loss: 0.0020\n",
      "Epoch 80/100\n",
      "\u001b[1m14/14\u001b[0m \u001b[32m━━━━━━━━━━━━━━━━━━━━\u001b[0m\u001b[37m\u001b[0m \u001b[1m3s\u001b[0m 194ms/step - loss: 2.7039e-04 - val_loss: 0.0019\n",
      "Epoch 81/100\n",
      "\u001b[1m14/14\u001b[0m \u001b[32m━━━━━━━━━━━━━━━━━━━━\u001b[0m\u001b[37m\u001b[0m \u001b[1m3s\u001b[0m 224ms/step - loss: 2.6198e-04 - val_loss: 0.0027\n",
      "Epoch 82/100\n",
      "\u001b[1m14/14\u001b[0m \u001b[32m━━━━━━━━━━━━━━━━━━━━\u001b[0m\u001b[37m\u001b[0m \u001b[1m5s\u001b[0m 402ms/step - loss: 2.8674e-04 - val_loss: 0.0022\n",
      "Epoch 83/100\n",
      "\u001b[1m14/14\u001b[0m \u001b[32m━━━━━━━━━━━━━━━━━━━━\u001b[0m\u001b[37m\u001b[0m \u001b[1m3s\u001b[0m 193ms/step - loss: 2.7822e-04 - val_loss: 0.0020\n",
      "Epoch 84/100\n",
      "\u001b[1m14/14\u001b[0m \u001b[32m━━━━━━━━━━━━━━━━━━━━\u001b[0m\u001b[37m\u001b[0m \u001b[1m3s\u001b[0m 218ms/step - loss: 2.9055e-04 - val_loss: 0.0021\n",
      "Epoch 85/100\n",
      "\u001b[1m14/14\u001b[0m \u001b[32m━━━━━━━━━━━━━━━━━━━━\u001b[0m\u001b[37m\u001b[0m \u001b[1m5s\u001b[0m 383ms/step - loss: 2.3800e-04 - val_loss: 0.0019\n",
      "Epoch 86/100\n",
      "\u001b[1m14/14\u001b[0m \u001b[32m━━━━━━━━━━━━━━━━━━━━\u001b[0m\u001b[37m\u001b[0m \u001b[1m8s\u001b[0m 239ms/step - loss: 2.4324e-04 - val_loss: 0.0019\n",
      "Epoch 87/100\n",
      "\u001b[1m14/14\u001b[0m \u001b[32m━━━━━━━━━━━━━━━━━━━━\u001b[0m\u001b[37m\u001b[0m \u001b[1m5s\u001b[0m 197ms/step - loss: 2.3703e-04 - val_loss: 0.0018\n",
      "Epoch 88/100\n",
      "\u001b[1m14/14\u001b[0m \u001b[32m━━━━━━━━━━━━━━━━━━━━\u001b[0m\u001b[37m\u001b[0m \u001b[1m5s\u001b[0m 382ms/step - loss: 2.2100e-04 - val_loss: 0.0019\n",
      "Epoch 89/100\n",
      "\u001b[1m14/14\u001b[0m \u001b[32m━━━━━━━━━━━━━━━━━━━━\u001b[0m\u001b[37m\u001b[0m \u001b[1m3s\u001b[0m 195ms/step - loss: 2.1889e-04 - val_loss: 0.0021\n",
      "Epoch 90/100\n",
      "\u001b[1m14/14\u001b[0m \u001b[32m━━━━━━━━━━━━━━━━━━━━\u001b[0m\u001b[37m\u001b[0m \u001b[1m4s\u001b[0m 256ms/step - loss: 2.2251e-04 - val_loss: 0.0022\n",
      "Epoch 91/100\n",
      "\u001b[1m14/14\u001b[0m \u001b[32m━━━━━━━━━━━━━━━━━━━━\u001b[0m\u001b[37m\u001b[0m \u001b[1m3s\u001b[0m 185ms/step - loss: 2.4664e-04 - val_loss: 0.0020\n",
      "Epoch 92/100\n",
      "\u001b[1m14/14\u001b[0m \u001b[32m━━━━━━━━━━━━━━━━━━━━\u001b[0m\u001b[37m\u001b[0m \u001b[1m4s\u001b[0m 285ms/step - loss: 2.3530e-04 - val_loss: 0.0023\n",
      "Epoch 93/100\n",
      "\u001b[1m14/14\u001b[0m \u001b[32m━━━━━━━━━━━━━━━━━━━━\u001b[0m\u001b[37m\u001b[0m \u001b[1m5s\u001b[0m 383ms/step - loss: 2.6659e-04 - val_loss: 0.0039\n",
      "Epoch 94/100\n",
      "\u001b[1m14/14\u001b[0m \u001b[32m━━━━━━━━━━━━━━━━━━━━\u001b[0m\u001b[37m\u001b[0m \u001b[1m5s\u001b[0m 384ms/step - loss: 3.0601e-04 - val_loss: 0.0038\n",
      "Epoch 95/100\n",
      "\u001b[1m14/14\u001b[0m \u001b[32m━━━━━━━━━━━━━━━━━━━━\u001b[0m\u001b[37m\u001b[0m \u001b[1m5s\u001b[0m 386ms/step - loss: 2.1976e-04 - val_loss: 0.0019\n",
      "Epoch 96/100\n",
      "\u001b[1m14/14\u001b[0m \u001b[32m━━━━━━━━━━━━━━━━━━━━\u001b[0m\u001b[37m\u001b[0m \u001b[1m4s\u001b[0m 288ms/step - loss: 2.7362e-04 - val_loss: 0.0017\n",
      "Epoch 97/100\n",
      "\u001b[1m14/14\u001b[0m \u001b[32m━━━━━━━━━━━━━━━━━━━━\u001b[0m\u001b[37m\u001b[0m \u001b[1m5s\u001b[0m 387ms/step - loss: 2.3544e-04 - val_loss: 0.0017\n",
      "Epoch 98/100\n",
      "\u001b[1m14/14\u001b[0m \u001b[32m━━━━━━━━━━━━━━━━━━━━\u001b[0m\u001b[37m\u001b[0m \u001b[1m5s\u001b[0m 377ms/step - loss: 2.3444e-04 - val_loss: 0.0017\n",
      "Epoch 99/100\n",
      "\u001b[1m14/14\u001b[0m \u001b[32m━━━━━━━━━━━━━━━━━━━━\u001b[0m\u001b[37m\u001b[0m \u001b[1m5s\u001b[0m 371ms/step - loss: 2.1609e-04 - val_loss: 0.0018\n",
      "Epoch 100/100\n",
      "\u001b[1m14/14\u001b[0m \u001b[32m━━━━━━━━━━━━━━━━━━━━\u001b[0m\u001b[37m\u001b[0m \u001b[1m5s\u001b[0m 377ms/step - loss: 2.0845e-04 - val_loss: 0.0019\n"
     ]
    },
    {
     "data": {
      "text/plain": [
       "<keras.src.callbacks.history.History at 0x24189cb4ad0>"
      ]
     },
     "execution_count": 38,
     "metadata": {},
     "output_type": "execute_result"
    }
   ],
   "source": [
    "model.fit(X_train,y_train,validation_data=(X_test,ytest),epochs=100,batch_size=64,verbose=1)"
   ]
  },
  {
   "cell_type": "code",
   "execution_count": 39,
   "metadata": {},
   "outputs": [],
   "source": [
    "import tensorflow as tf"
   ]
  },
  {
   "cell_type": "code",
   "execution_count": 40,
   "metadata": {},
   "outputs": [
    {
     "data": {
      "text/plain": [
       "'2.19.0'"
      ]
     },
     "execution_count": 40,
     "metadata": {},
     "output_type": "execute_result"
    }
   ],
   "source": [
    "tf.__version__"
   ]
  },
  {
   "cell_type": "code",
   "execution_count": 41,
   "metadata": {},
   "outputs": [
    {
     "name": "stdout",
     "output_type": "stream",
     "text": [
      "\u001b[1m28/28\u001b[0m \u001b[32m━━━━━━━━━━━━━━━━━━━━\u001b[0m\u001b[37m\u001b[0m \u001b[1m6s\u001b[0m 165ms/step\n",
      "\u001b[1m4/4\u001b[0m \u001b[32m━━━━━━━━━━━━━━━━━━━━\u001b[0m\u001b[37m\u001b[0m \u001b[1m1s\u001b[0m 139ms/step\n"
     ]
    }
   ],
   "source": [
    "### prediction and checking performance metrics\n",
    "train_predict=model.predict(X_train)\n",
    "test_predict=model.predict(X_test)"
   ]
  },
  {
   "cell_type": "code",
   "execution_count": 42,
   "metadata": {},
   "outputs": [],
   "source": [
    "##Transformback to original form\n",
    "train_predict=scaler.inverse_transform(train_predict)\n",
    "test_predict=scaler.inverse_transform(test_predict)"
   ]
  },
  {
   "cell_type": "code",
   "execution_count": 43,
   "metadata": {},
   "outputs": [
    {
     "data": {
      "text/plain": [
       "154.14830359614896"
      ]
     },
     "execution_count": 43,
     "metadata": {},
     "output_type": "execute_result"
    }
   ],
   "source": [
    "### Calculate RMSE performance metrics\n",
    "import math\n",
    "from sklearn.metrics import mean_squared_error\n",
    "math.sqrt(mean_squared_error(y_train,train_predict))"
   ]
  },
  {
   "cell_type": "code",
   "execution_count": 51,
   "metadata": {},
   "outputs": [
    {
     "data": {
      "text/plain": [
       "284.1038410641703"
      ]
     },
     "execution_count": 51,
     "metadata": {},
     "output_type": "execute_result"
    }
   ],
   "source": [
    "### Test Data RMSE\n",
    "math.sqrt(mean_squared_error(ytest,test_predict))"
   ]
  },
  {
   "cell_type": "code",
   "execution_count": 79,
   "metadata": {},
   "outputs": [
    {
     "data": {
      "image/png": "[encoded data removed]",
      "text/plain": [
       "<Figure size 640x480 with 1 Axes>"
      ]
     },
     "metadata": {},
     "output_type": "display_data"
    }
   ],
   "source": [
    "### Plotting \n",
    "# shift train predictions for plotting\n",
    "look_back=125\n",
    "trainPredictPlot = numpy.empty_like(data)\n",
    "trainPredictPlot[:, :] = np.nan\n",
    "trainPredictPlot[look_back:len(train_predict)+look_back, :] = train_predict\n",
    "# shift test predictions for plotting\n",
    "testPredictPlot = numpy.empty_like(data)\n",
    "testPredictPlot[:, :] = numpy.nan\n",
    "testPredictPlot[len(train_predict)+(look_back*2)+1:len(data)-1, :] = test_predict\n",
    "# plot baseline and predictions\n",
    "plt.plot(scaler.inverse_transform(data))\n",
    "plt.plot(trainPredictPlot)\n",
    "plt.plot(testPredictPlot)\n",
    "plt.show()"
   ]
  },
  {
   "cell_type": "code",
   "execution_count": 81,
   "metadata": {},
   "outputs": [
    {
     "data": {
      "text/plain": [
       "252"
      ]
     },
     "execution_count": 81,
     "metadata": {},
     "output_type": "execute_result"
    }
   ],
   "source": [
    "len(test_data)"
   ]
  },
  {
   "cell_type": "code",
   "execution_count": 93,
   "metadata": {},
   "outputs": [
    {
     "data": {
      "text/plain": [
       "(1, 126)"
      ]
     },
     "execution_count": 93,
     "metadata": {},
     "output_type": "execute_result"
    }
   ],
   "source": [
    "x_input=test_data[126:].reshape(1,-1)\n",
    "x_input.shape\n"
   ]
  },
  {
   "cell_type": "code",
   "execution_count": 95,
   "metadata": {},
   "outputs": [
    {
     "data": {
      "text/plain": [
       "array([[0.72477413, 0.72380309, 0.74318163, 0.73440007, 0.74938782,\n",
       "        0.7468969 , 0.73385122, 0.71396606, 0.72363421, 0.73984632,\n",
       "        0.76150469, 0.74550367, 0.75208984, 0.761758  , 0.76467111,\n",
       "        0.78024994, 0.8001351 , 0.80245715, 0.79962847, 0.80081061,\n",
       "        0.7983619 , 0.81761378, 0.81875369, 0.84256523, 0.84210082,\n",
       "        0.84936249, 0.85835515, 0.8866419 , 0.87431394, 0.88431985,\n",
       "        0.87836697, 0.8986321 , 0.92582116, 0.92877649, 0.95676771,\n",
       "        0.93869797, 0.93304061, 0.94950604, 0.96424048, 0.95512117,\n",
       "        0.95989192, 0.96635143, 0.96246728, 0.92295027, 0.9598497 ,\n",
       "        0.98792536, 0.98594106, 0.92531453, 0.92172591, 0.96474711,\n",
       "        0.97572406, 0.99159841, 0.96972895, 0.97614625, 0.96795575,\n",
       "        1.        , 0.99016297, 0.99050072, 0.96538039, 0.98488559,\n",
       "        0.97086887, 0.94026007, 0.87748037, 0.83483915, 0.85413324,\n",
       "        0.77336823, 0.77269273, 0.88014017, 0.84007431, 0.89673225,\n",
       "        0.85527316, 0.83884995, 0.74233725, 0.82327113, 0.78143207,\n",
       "        0.6665963 , 0.7921557 , 0.64118044, 0.68614371, 0.66001013,\n",
       "        0.65203074, 0.58642236, 0.56586169, 0.66089673, 0.65515494,\n",
       "        0.70970193, 0.66452757, 0.69437642, 0.69218104, 0.63569197,\n",
       "        0.65266402, 0.63780292, 0.7267162 , 0.71388162, 0.74191506,\n",
       "        0.75002111, 0.77222832, 0.83049059, 0.8194292 , 0.8289707 ,\n",
       "        0.8125475 , 0.78776492, 0.75162543, 0.78426074, 0.77974331,\n",
       "        0.81326522, 0.8141096 , 0.79473106, 0.83336148, 0.85898843,\n",
       "        0.83901883, 0.85628641, 0.87486279, 0.88782403, 0.90095415,\n",
       "        0.92793211, 0.948535  , 0.93333615, 0.91746179, 0.92544119,\n",
       "        0.91771511, 0.9483239 , 0.94064004, 0.96635143, 0.9563033 ,\n",
       "        0.96491598]])"
      ]
     },
     "execution_count": 95,
     "metadata": {},
     "output_type": "execute_result"
    }
   ],
   "source": [
    "x_input"
   ]
  },
  {
   "cell_type": "code",
   "execution_count": 97,
   "metadata": {},
   "outputs": [],
   "source": [
    "temp_input=list(x_input)\n",
    "temp_input=temp_input[0].tolist()"
   ]
  },
  {
   "cell_type": "code",
   "execution_count": 99,
   "metadata": {},
   "outputs": [
    {
     "data": {
      "text/plain": [
       "[0.7247741281769824,\n",
       " 0.7238030904331674,\n",
       " 0.7431816262771258,\n",
       " 0.7344000675504521,\n",
       " 0.7493878240310732,\n",
       " 0.7468969011230264,\n",
       " 0.7338512201300349,\n",
       " 0.713966055897999,\n",
       " 0.7236342143038084,\n",
       " 0.7398463227222833,\n",
       " 0.7615046863125898,\n",
       " 0.7455036730558138,\n",
       " 0.7520898421008193,\n",
       " 0.7617580005066285,\n",
       " 0.7646711137380733,\n",
       " 0.7802499366714515,\n",
       " 0.8001351009034876,\n",
       " 0.8024571476821754,\n",
       " 0.7996284725154101,\n",
       " 0.8008106054209239,\n",
       " 0.7983619015452168,\n",
       " 0.8176137802921559,\n",
       " 0.8187536941653297,\n",
       " 0.8425652284049652,\n",
       " 0.8421008190492276,\n",
       " 0.8493624926116694,\n",
       " 0.8583551465000423,\n",
       " 0.8866418981676942,\n",
       " 0.8743139407244789,\n",
       " 0.8843198513890065,\n",
       " 0.8783669678290975,\n",
       " 0.8986321033521913,\n",
       " 0.925821160179009,\n",
       " 0.9287764924427933,\n",
       " 0.9567677108840666,\n",
       " 0.9386979650426415,\n",
       " 0.933040614709111,\n",
       " 0.9495060373216249,\n",
       " 0.9642404796082076,\n",
       " 0.9551211686228154,\n",
       " 0.9598919192772104,\n",
       " 0.9663514312251966,\n",
       " 0.9624672802499368,\n",
       " 0.9229502659799038,\n",
       " 0.9598497002448705,\n",
       " 0.9879253567508233,\n",
       " 0.985941062230854,\n",
       " 0.9253145317909315,\n",
       " 0.9217259140420504,\n",
       " 0.964747107996285,\n",
       " 0.9757240564046274,\n",
       " 0.9915984125643842,\n",
       " 0.9697289538123788,\n",
       " 0.9761462467280253,\n",
       " 0.9679557544541082,\n",
       " 1.0000000000000002,\n",
       " 0.9901629654648318,\n",
       " 0.9905007177235499,\n",
       " 0.9653803934813816,\n",
       " 0.9848855864223593,\n",
       " 0.9708688676855528,\n",
       " 0.9402600692392133,\n",
       " 0.8774803681499621,\n",
       " 0.8348391454867856,\n",
       " 0.8541332432660644,\n",
       " 0.7733682344000676,\n",
       " 0.7726927298826314,\n",
       " 0.8801401671873683,\n",
       " 0.8400743054969182,\n",
       " 0.8967322468969012,\n",
       " 0.8552731571392387,\n",
       " 0.8388499535590646,\n",
       " 0.7423372456303303,\n",
       " 0.8232711306256861,\n",
       " 0.7814320695769654,\n",
       " 0.6665963016127672,\n",
       " 0.7921557037912694,\n",
       " 0.6411804441442204,\n",
       " 0.6861437135860848,\n",
       " 0.6600101325677616,\n",
       " 0.6520307354555435,\n",
       " 0.5864223591995272,\n",
       " 0.5658616904500551,\n",
       " 0.660896732246897,\n",
       " 0.6551549438486872,\n",
       " 0.7097019336316812,\n",
       " 0.664527569028118,\n",
       " 0.6943764248923416,\n",
       " 0.692181035210673,\n",
       " 0.6356919699400492,\n",
       " 0.6526640209406402,\n",
       " 0.637802921557038,\n",
       " 0.7267162036646122,\n",
       " 0.7138816178333194,\n",
       " 0.7419150553069325,\n",
       " 0.7500211095161702,\n",
       " 0.7722283205268936,\n",
       " 0.8304905851557884,\n",
       " 0.8194291986827664,\n",
       " 0.8289706999915563,\n",
       " 0.8125474964113824,\n",
       " 0.7877649244279323,\n",
       " 0.7516254327450818,\n",
       " 0.7842607447437306,\n",
       " 0.7797433082833742,\n",
       " 0.8132652199611587,\n",
       " 0.8141096006079542,\n",
       " 0.7947310647639958,\n",
       " 0.8333614793548934,\n",
       " 0.8589884319851391,\n",
       " 0.8390188296884238,\n",
       " 0.8562864139153934,\n",
       " 0.8748627881448958,\n",
       " 0.887824031073208,\n",
       " 0.9009541501308793,\n",
       " 0.9279321117959978,\n",
       " 0.9485349995778098,\n",
       " 0.9333361479354896,\n",
       " 0.9174617917757326,\n",
       " 0.925441188887951,\n",
       " 0.9177151059697712,\n",
       " 0.9483239044161109,\n",
       " 0.9406400405302711,\n",
       " 0.9663514312251966,\n",
       " 0.9563033015283293,\n",
       " 0.964915984125644]"
      ]
     },
     "execution_count": 99,
     "metadata": {},
     "output_type": "execute_result"
    }
   ],
   "source": [
    "temp_input"
   ]
  },
  {
   "cell_type": "code",
   "execution_count": 153,
   "metadata": {},
   "outputs": [],
   "source": [
    "day_new=np.arange(1,127)\n",
    "day_pred=np.arange(127,157)"
   ]
  },
  {
   "cell_type": "code",
   "execution_count": 155,
   "metadata": {},
   "outputs": [],
   "source": [
    "import matplotlib.pyplot as plt"
   ]
  },
  {
   "cell_type": "code",
   "execution_count": 157,
   "metadata": {},
   "outputs": [
    {
     "data": {
      "text/plain": [
       "1258"
      ]
     },
     "execution_count": 157,
     "metadata": {},
     "output_type": "execute_result"
    }
   ],
   "source": [
    "len(data)"
   ]
  },
  {
   "cell_type": "code",
   "execution_count": 172,
   "metadata": {},
   "outputs": [
    {
     "name": "stdout",
     "output_type": "stream",
     "text": [
      "0 day input [0.94026007 0.87748037 0.83483915 0.85413324 0.77336823 0.77269273\n",
      " 0.88014017 0.84007431 0.89673225 0.85527316 0.83884995 0.74233725\n",
      " 0.82327113 0.78143207 0.6665963  0.7921557  0.64118044 0.68614371\n",
      " 0.66001013 0.65203074 0.58642236 0.56586169 0.66089673 0.65515494\n",
      " 0.70970193 0.66452757 0.69437642 0.69218104 0.63569197 0.65266402\n",
      " 0.63780292 0.7267162  0.71388162 0.74191506 0.75002111 0.77222832\n",
      " 0.83049059 0.8194292  0.8289707  0.8125475  0.78776492 0.75162543\n",
      " 0.78426074 0.77974331 0.81326522 0.8141096  0.79473106 0.83336148\n",
      " 0.85898843 0.83901883 0.85628641 0.87486279 0.88782403 0.90095415\n",
      " 0.92793211 0.948535   0.93333615 0.91746179 0.92544119 0.91771511\n",
      " 0.9483239  0.94064004 0.96635143 0.9563033  0.96491598 0.94691485\n",
      " 0.94439977 0.93932176 0.93424529 0.92982984 0.92616117 0.92316288\n",
      " 0.92069215 0.91857564 0.91663945 0.91473049 0.91273111 0.91056359\n",
      " 0.90819013 0.9056043  0.90282416 0.8998819  0.89681578 0.89366317\n",
      " 0.89045578 0.88721752 0.88396376 0.88070095 0.87742954 0.87414438\n",
      " 0.87083799 0.86750126 0.86412627 0.86070508 0.85723209 0.85723209\n",
      " 0.85126436 0.84802836 0.84434998 0.84050596 0.83658642 0.83261734\n",
      " 0.82860881 0.82456523 0.82048643 0.81636864 0.81220514 0.80798769\n",
      " 0.80370873 0.79936022 0.79493642 0.79043216 0.78584361 0.78116852\n",
      " 0.77640432 0.7715503  0.76660478 0.76156718 0.7564351  0.75120687\n",
      " 0.74588037 0.74045241 0.73491973 0.72927922 0.72352672 0.7176587 ]\n",
      "0 day output [[0.7116709]]\n",
      "1 day input [0.87748037 0.83483915 0.85413324 0.77336823 0.77269273 0.88014017\n",
      " 0.84007431 0.89673225 0.85527316 0.83884995 0.74233725 0.82327113\n",
      " 0.78143207 0.6665963  0.7921557  0.64118044 0.68614371 0.66001013\n",
      " 0.65203074 0.58642236 0.56586169 0.66089673 0.65515494 0.70970193\n",
      " 0.66452757 0.69437642 0.69218104 0.63569197 0.65266402 0.63780292\n",
      " 0.7267162  0.71388162 0.74191506 0.75002111 0.77222832 0.83049059\n",
      " 0.8194292  0.8289707  0.8125475  0.78776492 0.75162543 0.78426074\n",
      " 0.77974331 0.81326522 0.8141096  0.79473106 0.83336148 0.85898843\n",
      " 0.83901883 0.85628641 0.87486279 0.88782403 0.90095415 0.92793211\n",
      " 0.948535   0.93333615 0.91746179 0.92544119 0.91771511 0.9483239\n",
      " 0.94064004 0.96635143 0.9563033  0.96491598 0.94691485 0.94439977\n",
      " 0.93932176 0.93424529 0.92982984 0.92616117 0.92316288 0.92069215\n",
      " 0.91857564 0.91663945 0.91473049 0.91273111 0.91056359 0.90819013\n",
      " 0.9056043  0.90282416 0.8998819  0.89681578 0.89366317 0.89045578\n",
      " 0.88721752 0.88396376 0.88070095 0.87742954 0.87414438 0.87083799\n",
      " 0.86750126 0.86412627 0.86070508 0.85723209 0.85723209 0.85126436\n",
      " 0.84802836 0.84434998 0.84050596 0.83658642 0.83261734 0.82860881\n",
      " 0.82456523 0.82048643 0.81636864 0.81220514 0.80798769 0.80370873\n",
      " 0.79936022 0.79493642 0.79043216 0.78584361 0.78116852 0.77640432\n",
      " 0.7715503  0.76660478 0.76156718 0.7564351  0.75120687 0.74588037\n",
      " 0.74045241 0.73491973 0.72927922 0.72352672 0.7176587  0.71167088]\n",
      "1 day output [[0.70555896]]\n",
      "2 day input [0.83483915 0.85413324 0.77336823 0.77269273 0.88014017 0.84007431\n",
      " 0.89673225 0.85527316 0.83884995 0.74233725 0.82327113 0.78143207\n",
      " 0.6665963  0.7921557  0.64118044 0.68614371 0.66001013 0.65203074\n",
      " 0.58642236 0.56586169 0.66089673 0.65515494 0.70970193 0.66452757\n",
      " 0.69437642 0.69218104 0.63569197 0.65266402 0.63780292 0.7267162\n",
      " 0.71388162 0.74191506 0.75002111 0.77222832 0.83049059 0.8194292\n",
      " 0.8289707  0.8125475  0.78776492 0.75162543 0.78426074 0.77974331\n",
      " 0.81326522 0.8141096  0.79473106 0.83336148 0.85898843 0.83901883\n",
      " 0.85628641 0.87486279 0.88782403 0.90095415 0.92793211 0.948535\n",
      " 0.93333615 0.91746179 0.92544119 0.91771511 0.9483239  0.94064004\n",
      " 0.96635143 0.9563033  0.96491598 0.94691485 0.94439977 0.93932176\n",
      " 0.93424529 0.92982984 0.92616117 0.92316288 0.92069215 0.91857564\n",
      " 0.91663945 0.91473049 0.91273111 0.91056359 0.90819013 0.9056043\n",
      " 0.90282416 0.8998819  0.89681578 0.89366317 0.89045578 0.88721752\n",
      " 0.88396376 0.88070095 0.87742954 0.87414438 0.87083799 0.86750126\n",
      " 0.86412627 0.86070508 0.85723209 0.85723209 0.85126436 0.84802836\n",
      " 0.84434998 0.84050596 0.83658642 0.83261734 0.82860881 0.82456523\n",
      " 0.82048643 0.81636864 0.81220514 0.80798769 0.80370873 0.79936022\n",
      " 0.79493642 0.79043216 0.78584361 0.78116852 0.77640432 0.7715503\n",
      " 0.76660478 0.76156718 0.7564351  0.75120687 0.74588037 0.74045241\n",
      " 0.73491973 0.72927922 0.72352672 0.7176587  0.71167088 0.70555896]\n",
      "2 day output [[0.6993187]]\n",
      "3 day input [0.85413324 0.77336823 0.77269273 0.88014017 0.84007431 0.89673225\n",
      " 0.85527316 0.83884995 0.74233725 0.82327113 0.78143207 0.6665963\n",
      " 0.7921557  0.64118044 0.68614371 0.66001013 0.65203074 0.58642236\n",
      " 0.56586169 0.66089673 0.65515494 0.70970193 0.66452757 0.69437642\n",
      " 0.69218104 0.63569197 0.65266402 0.63780292 0.7267162  0.71388162\n",
      " 0.74191506 0.75002111 0.77222832 0.83049059 0.8194292  0.8289707\n",
      " 0.8125475  0.78776492 0.75162543 0.78426074 0.77974331 0.81326522\n",
      " 0.8141096  0.79473106 0.83336148 0.85898843 0.83901883 0.85628641\n",
      " 0.87486279 0.88782403 0.90095415 0.92793211 0.948535   0.93333615\n",
      " 0.91746179 0.92544119 0.91771511 0.9483239  0.94064004 0.96635143\n",
      " 0.9563033  0.96491598 0.94691485 0.94439977 0.93932176 0.93424529\n",
      " 0.92982984 0.92616117 0.92316288 0.92069215 0.91857564 0.91663945\n",
      " 0.91473049 0.91273111 0.91056359 0.90819013 0.9056043  0.90282416\n",
      " 0.8998819  0.89681578 0.89366317 0.89045578 0.88721752 0.88396376\n",
      " 0.88070095 0.87742954 0.87414438 0.87083799 0.86750126 0.86412627\n",
      " 0.86070508 0.85723209 0.85723209 0.85126436 0.84802836 0.84434998\n",
      " 0.84050596 0.83658642 0.83261734 0.82860881 0.82456523 0.82048643\n",
      " 0.81636864 0.81220514 0.80798769 0.80370873 0.79936022 0.79493642\n",
      " 0.79043216 0.78584361 0.78116852 0.77640432 0.7715503  0.76660478\n",
      " 0.76156718 0.7564351  0.75120687 0.74588037 0.74045241 0.73491973\n",
      " 0.72927922 0.72352672 0.7176587  0.71167088 0.70555896 0.69931871]\n",
      "3 day output [[0.692946]]\n",
      "4 day input [0.77336823 0.77269273 0.88014017 0.84007431 0.89673225 0.85527316\n",
      " 0.83884995 0.74233725 0.82327113 0.78143207 0.6665963  0.7921557\n",
      " 0.64118044 0.68614371 0.66001013 0.65203074 0.58642236 0.56586169\n",
      " 0.66089673 0.65515494 0.70970193 0.66452757 0.69437642 0.69218104\n",
      " 0.63569197 0.65266402 0.63780292 0.7267162  0.71388162 0.74191506\n",
      " 0.75002111 0.77222832 0.83049059 0.8194292  0.8289707  0.8125475\n",
      " 0.78776492 0.75162543 0.78426074 0.77974331 0.81326522 0.8141096\n",
      " 0.79473106 0.83336148 0.85898843 0.83901883 0.85628641 0.87486279\n",
      " 0.88782403 0.90095415 0.92793211 0.948535   0.93333615 0.91746179\n",
      " 0.92544119 0.91771511 0.9483239  0.94064004 0.96635143 0.9563033\n",
      " 0.96491598 0.94691485 0.94439977 0.93932176 0.93424529 0.92982984\n",
      " 0.92616117 0.92316288 0.92069215 0.91857564 0.91663945 0.91473049\n",
      " 0.91273111 0.91056359 0.90819013 0.9056043  0.90282416 0.8998819\n",
      " 0.89681578 0.89366317 0.89045578 0.88721752 0.88396376 0.88070095\n",
      " 0.87742954 0.87414438 0.87083799 0.86750126 0.86412627 0.86070508\n",
      " 0.85723209 0.85723209 0.85126436 0.84802836 0.84434998 0.84050596\n",
      " 0.83658642 0.83261734 0.82860881 0.82456523 0.82048643 0.81636864\n",
      " 0.81220514 0.80798769 0.80370873 0.79936022 0.79493642 0.79043216\n",
      " 0.78584361 0.78116852 0.77640432 0.7715503  0.76660478 0.76156718\n",
      " 0.7564351  0.75120687 0.74588037 0.74045241 0.73491973 0.72927922\n",
      " 0.72352672 0.7176587  0.71167088 0.70555896 0.69931871 0.69294602]\n",
      "4 day output [[0.6864364]]\n",
      "5 day input [0.77269273 0.88014017 0.84007431 0.89673225 0.85527316 0.83884995\n",
      " 0.74233725 0.82327113 0.78143207 0.6665963  0.7921557  0.64118044\n",
      " 0.68614371 0.66001013 0.65203074 0.58642236 0.56586169 0.66089673\n",
      " 0.65515494 0.70970193 0.66452757 0.69437642 0.69218104 0.63569197\n",
      " 0.65266402 0.63780292 0.7267162  0.71388162 0.74191506 0.75002111\n",
      " 0.77222832 0.83049059 0.8194292  0.8289707  0.8125475  0.78776492\n",
      " 0.75162543 0.78426074 0.77974331 0.81326522 0.8141096  0.79473106\n",
      " 0.83336148 0.85898843 0.83901883 0.85628641 0.87486279 0.88782403\n",
      " 0.90095415 0.92793211 0.948535   0.93333615 0.91746179 0.92544119\n",
      " 0.91771511 0.9483239  0.94064004 0.96635143 0.9563033  0.96491598\n",
      " 0.94691485 0.94439977 0.93932176 0.93424529 0.92982984 0.92616117\n",
      " 0.92316288 0.92069215 0.91857564 0.91663945 0.91473049 0.91273111\n",
      " 0.91056359 0.90819013 0.9056043  0.90282416 0.8998819  0.89681578\n",
      " 0.89366317 0.89045578 0.88721752 0.88396376 0.88070095 0.87742954\n",
      " 0.87414438 0.87083799 0.86750126 0.86412627 0.86070508 0.85723209\n",
      " 0.85723209 0.85126436 0.84802836 0.84434998 0.84050596 0.83658642\n",
      " 0.83261734 0.82860881 0.82456523 0.82048643 0.81636864 0.81220514\n",
      " 0.80798769 0.80370873 0.79936022 0.79493642 0.79043216 0.78584361\n",
      " 0.78116852 0.77640432 0.7715503  0.76660478 0.76156718 0.7564351\n",
      " 0.75120687 0.74588037 0.74045241 0.73491973 0.72927922 0.72352672\n",
      " 0.7176587  0.71167088 0.70555896 0.69931871 0.69294602 0.68643641]\n",
      "5 day output [[0.6797855]]\n",
      "6 day input [0.88014017 0.84007431 0.89673225 0.85527316 0.83884995 0.74233725\n",
      " 0.82327113 0.78143207 0.6665963  0.7921557  0.64118044 0.68614371\n",
      " 0.66001013 0.65203074 0.58642236 0.56586169 0.66089673 0.65515494\n",
      " 0.70970193 0.66452757 0.69437642 0.69218104 0.63569197 0.65266402\n",
      " 0.63780292 0.7267162  0.71388162 0.74191506 0.75002111 0.77222832\n",
      " 0.83049059 0.8194292  0.8289707  0.8125475  0.78776492 0.75162543\n",
      " 0.78426074 0.77974331 0.81326522 0.8141096  0.79473106 0.83336148\n",
      " 0.85898843 0.83901883 0.85628641 0.87486279 0.88782403 0.90095415\n",
      " 0.92793211 0.948535   0.93333615 0.91746179 0.92544119 0.91771511\n",
      " 0.9483239  0.94064004 0.96635143 0.9563033  0.96491598 0.94691485\n",
      " 0.94439977 0.93932176 0.93424529 0.92982984 0.92616117 0.92316288\n",
      " 0.92069215 0.91857564 0.91663945 0.91473049 0.91273111 0.91056359\n",
      " 0.90819013 0.9056043  0.90282416 0.8998819  0.89681578 0.89366317\n",
      " 0.89045578 0.88721752 0.88396376 0.88070095 0.87742954 0.87414438\n",
      " 0.87083799 0.86750126 0.86412627 0.86070508 0.85723209 0.85723209\n",
      " 0.85126436 0.84802836 0.84434998 0.84050596 0.83658642 0.83261734\n",
      " 0.82860881 0.82456523 0.82048643 0.81636864 0.81220514 0.80798769\n",
      " 0.80370873 0.79936022 0.79493642 0.79043216 0.78584361 0.78116852\n",
      " 0.77640432 0.7715503  0.76660478 0.76156718 0.7564351  0.75120687\n",
      " 0.74588037 0.74045241 0.73491973 0.72927922 0.72352672 0.7176587\n",
      " 0.71167088 0.70555896 0.69931871 0.69294602 0.68643641 0.67978549]\n",
      "6 day output [[0.6729883]]\n",
      "7 day input [0.84007431 0.89673225 0.85527316 0.83884995 0.74233725 0.82327113\n",
      " 0.78143207 0.6665963  0.7921557  0.64118044 0.68614371 0.66001013\n",
      " 0.65203074 0.58642236 0.56586169 0.66089673 0.65515494 0.70970193\n",
      " 0.66452757 0.69437642 0.69218104 0.63569197 0.65266402 0.63780292\n",
      " 0.7267162  0.71388162 0.74191506 0.75002111 0.77222832 0.83049059\n",
      " 0.8194292  0.8289707  0.8125475  0.78776492 0.75162543 0.78426074\n",
      " 0.77974331 0.81326522 0.8141096  0.79473106 0.83336148 0.85898843\n",
      " 0.83901883 0.85628641 0.87486279 0.88782403 0.90095415 0.92793211\n",
      " 0.948535   0.93333615 0.91746179 0.92544119 0.91771511 0.9483239\n",
      " 0.94064004 0.96635143 0.9563033  0.96491598 0.94691485 0.94439977\n",
      " 0.93932176 0.93424529 0.92982984 0.92616117 0.92316288 0.92069215\n",
      " 0.91857564 0.91663945 0.91473049 0.91273111 0.91056359 0.90819013\n",
      " 0.9056043  0.90282416 0.8998819  0.89681578 0.89366317 0.89045578\n",
      " 0.88721752 0.88396376 0.88070095 0.87742954 0.87414438 0.87083799\n",
      " 0.86750126 0.86412627 0.86070508 0.85723209 0.85723209 0.85126436\n",
      " 0.84802836 0.84434998 0.84050596 0.83658642 0.83261734 0.82860881\n",
      " 0.82456523 0.82048643 0.81636864 0.81220514 0.80798769 0.80370873\n",
      " 0.79936022 0.79493642 0.79043216 0.78584361 0.78116852 0.77640432\n",
      " 0.7715503  0.76660478 0.76156718 0.7564351  0.75120687 0.74588037\n",
      " 0.74045241 0.73491973 0.72927922 0.72352672 0.7176587  0.71167088\n",
      " 0.70555896 0.69931871 0.69294602 0.68643641 0.67978549 0.6729883 ]\n",
      "7 day output [[0.6660406]]\n",
      "8 day input [0.89673225 0.85527316 0.83884995 0.74233725 0.82327113 0.78143207\n",
      " 0.6665963  0.7921557  0.64118044 0.68614371 0.66001013 0.65203074\n",
      " 0.58642236 0.56586169 0.66089673 0.65515494 0.70970193 0.66452757\n",
      " 0.69437642 0.69218104 0.63569197 0.65266402 0.63780292 0.7267162\n",
      " 0.71388162 0.74191506 0.75002111 0.77222832 0.83049059 0.8194292\n",
      " 0.8289707  0.8125475  0.78776492 0.75162543 0.78426074 0.77974331\n",
      " 0.81326522 0.8141096  0.79473106 0.83336148 0.85898843 0.83901883\n",
      " 0.85628641 0.87486279 0.88782403 0.90095415 0.92793211 0.948535\n",
      " 0.93333615 0.91746179 0.92544119 0.91771511 0.9483239  0.94064004\n",
      " 0.96635143 0.9563033  0.96491598 0.94691485 0.94439977 0.93932176\n",
      " 0.93424529 0.92982984 0.92616117 0.92316288 0.92069215 0.91857564\n",
      " 0.91663945 0.91473049 0.91273111 0.91056359 0.90819013 0.9056043\n",
      " 0.90282416 0.8998819  0.89681578 0.89366317 0.89045578 0.88721752\n",
      " 0.88396376 0.88070095 0.87742954 0.87414438 0.87083799 0.86750126\n",
      " 0.86412627 0.86070508 0.85723209 0.85723209 0.85126436 0.84802836\n",
      " 0.84434998 0.84050596 0.83658642 0.83261734 0.82860881 0.82456523\n",
      " 0.82048643 0.81636864 0.81220514 0.80798769 0.80370873 0.79936022\n",
      " 0.79493642 0.79043216 0.78584361 0.78116852 0.77640432 0.7715503\n",
      " 0.76660478 0.76156718 0.7564351  0.75120687 0.74588037 0.74045241\n",
      " 0.73491973 0.72927922 0.72352672 0.7176587  0.71167088 0.70555896\n",
      " 0.69931871 0.69294602 0.68643641 0.67978549 0.6729883  0.6660406 ]\n",
      "8 day output [[0.65893745]]\n",
      "9 day input [0.85527316 0.83884995 0.74233725 0.82327113 0.78143207 0.6665963\n",
      " 0.7921557  0.64118044 0.68614371 0.66001013 0.65203074 0.58642236\n",
      " 0.56586169 0.66089673 0.65515494 0.70970193 0.66452757 0.69437642\n",
      " 0.69218104 0.63569197 0.65266402 0.63780292 0.7267162  0.71388162\n",
      " 0.74191506 0.75002111 0.77222832 0.83049059 0.8194292  0.8289707\n",
      " 0.8125475  0.78776492 0.75162543 0.78426074 0.77974331 0.81326522\n",
      " 0.8141096  0.79473106 0.83336148 0.85898843 0.83901883 0.85628641\n",
      " 0.87486279 0.88782403 0.90095415 0.92793211 0.948535   0.93333615\n",
      " 0.91746179 0.92544119 0.91771511 0.9483239  0.94064004 0.96635143\n",
      " 0.9563033  0.96491598 0.94691485 0.94439977 0.93932176 0.93424529\n",
      " 0.92982984 0.92616117 0.92316288 0.92069215 0.91857564 0.91663945\n",
      " 0.91473049 0.91273111 0.91056359 0.90819013 0.9056043  0.90282416\n",
      " 0.8998819  0.89681578 0.89366317 0.89045578 0.88721752 0.88396376\n",
      " 0.88070095 0.87742954 0.87414438 0.87083799 0.86750126 0.86412627\n",
      " 0.86070508 0.85723209 0.85723209 0.85126436 0.84802836 0.84434998\n",
      " 0.84050596 0.83658642 0.83261734 0.82860881 0.82456523 0.82048643\n",
      " 0.81636864 0.81220514 0.80798769 0.80370873 0.79936022 0.79493642\n",
      " 0.79043216 0.78584361 0.78116852 0.77640432 0.7715503  0.76660478\n",
      " 0.76156718 0.7564351  0.75120687 0.74588037 0.74045241 0.73491973\n",
      " 0.72927922 0.72352672 0.7176587  0.71167088 0.70555896 0.69931871\n",
      " 0.69294602 0.68643641 0.67978549 0.6729883  0.6660406  0.65893745]\n",
      "9 day output [[0.65167403]]\n",
      "10 day input [0.83884995 0.74233725 0.82327113 0.78143207 0.6665963  0.7921557\n",
      " 0.64118044 0.68614371 0.66001013 0.65203074 0.58642236 0.56586169\n",
      " 0.66089673 0.65515494 0.70970193 0.66452757 0.69437642 0.69218104\n",
      " 0.63569197 0.65266402 0.63780292 0.7267162  0.71388162 0.74191506\n",
      " 0.75002111 0.77222832 0.83049059 0.8194292  0.8289707  0.8125475\n",
      " 0.78776492 0.75162543 0.78426074 0.77974331 0.81326522 0.8141096\n",
      " 0.79473106 0.83336148 0.85898843 0.83901883 0.85628641 0.87486279\n",
      " 0.88782403 0.90095415 0.92793211 0.948535   0.93333615 0.91746179\n",
      " 0.92544119 0.91771511 0.9483239  0.94064004 0.96635143 0.9563033\n",
      " 0.96491598 0.94691485 0.94439977 0.93932176 0.93424529 0.92982984\n",
      " 0.92616117 0.92316288 0.92069215 0.91857564 0.91663945 0.91473049\n",
      " 0.91273111 0.91056359 0.90819013 0.9056043  0.90282416 0.8998819\n",
      " 0.89681578 0.89366317 0.89045578 0.88721752 0.88396376 0.88070095\n",
      " 0.87742954 0.87414438 0.87083799 0.86750126 0.86412627 0.86070508\n",
      " 0.85723209 0.85723209 0.85126436 0.84802836 0.84434998 0.84050596\n",
      " 0.83658642 0.83261734 0.82860881 0.82456523 0.82048643 0.81636864\n",
      " 0.81220514 0.80798769 0.80370873 0.79936022 0.79493642 0.79043216\n",
      " 0.78584361 0.78116852 0.77640432 0.7715503  0.76660478 0.76156718\n",
      " 0.7564351  0.75120687 0.74588037 0.74045241 0.73491973 0.72927922\n",
      " 0.72352672 0.7176587  0.71167088 0.70555896 0.69931871 0.69294602\n",
      " 0.68643641 0.67978549 0.6729883  0.6660406  0.65893745 0.65167403]\n",
      "10 day output [[0.644245]]\n",
      "11 day input [0.74233725 0.82327113 0.78143207 0.6665963  0.7921557  0.64118044\n",
      " 0.68614371 0.66001013 0.65203074 0.58642236 0.56586169 0.66089673\n",
      " 0.65515494 0.70970193 0.66452757 0.69437642 0.69218104 0.63569197\n",
      " 0.65266402 0.63780292 0.7267162  0.71388162 0.74191506 0.75002111\n",
      " 0.77222832 0.83049059 0.8194292  0.8289707  0.8125475  0.78776492\n",
      " 0.75162543 0.78426074 0.77974331 0.81326522 0.8141096  0.79473106\n",
      " 0.83336148 0.85898843 0.83901883 0.85628641 0.87486279 0.88782403\n",
      " 0.90095415 0.92793211 0.948535   0.93333615 0.91746179 0.92544119\n",
      " 0.91771511 0.9483239  0.94064004 0.96635143 0.9563033  0.96491598\n",
      " 0.94691485 0.94439977 0.93932176 0.93424529 0.92982984 0.92616117\n",
      " 0.92316288 0.92069215 0.91857564 0.91663945 0.91473049 0.91273111\n",
      " 0.91056359 0.90819013 0.9056043  0.90282416 0.8998819  0.89681578\n",
      " 0.89366317 0.89045578 0.88721752 0.88396376 0.88070095 0.87742954\n",
      " 0.87414438 0.87083799 0.86750126 0.86412627 0.86070508 0.85723209\n",
      " 0.85723209 0.85126436 0.84802836 0.84434998 0.84050596 0.83658642\n",
      " 0.83261734 0.82860881 0.82456523 0.82048643 0.81636864 0.81220514\n",
      " 0.80798769 0.80370873 0.79936022 0.79493642 0.79043216 0.78584361\n",
      " 0.78116852 0.77640432 0.7715503  0.76660478 0.76156718 0.7564351\n",
      " 0.75120687 0.74588037 0.74045241 0.73491973 0.72927922 0.72352672\n",
      " 0.7176587  0.71167088 0.70555896 0.69931871 0.69294602 0.68643641\n",
      " 0.67978549 0.6729883  0.6660406  0.65893745 0.65167403 0.64424503]\n",
      "11 day output [[0.63664496]]\n",
      "12 day input [0.82327113 0.78143207 0.6665963  0.7921557  0.64118044 0.68614371\n",
      " 0.66001013 0.65203074 0.58642236 0.56586169 0.66089673 0.65515494\n",
      " 0.70970193 0.66452757 0.69437642 0.69218104 0.63569197 0.65266402\n",
      " 0.63780292 0.7267162  0.71388162 0.74191506 0.75002111 0.77222832\n",
      " 0.83049059 0.8194292  0.8289707  0.8125475  0.78776492 0.75162543\n",
      " 0.78426074 0.77974331 0.81326522 0.8141096  0.79473106 0.83336148\n",
      " 0.85898843 0.83901883 0.85628641 0.87486279 0.88782403 0.90095415\n",
      " 0.92793211 0.948535   0.93333615 0.91746179 0.92544119 0.91771511\n",
      " 0.9483239  0.94064004 0.96635143 0.9563033  0.96491598 0.94691485\n",
      " 0.94439977 0.93932176 0.93424529 0.92982984 0.92616117 0.92316288\n",
      " 0.92069215 0.91857564 0.91663945 0.91473049 0.91273111 0.91056359\n",
      " 0.90819013 0.9056043  0.90282416 0.8998819  0.89681578 0.89366317\n",
      " 0.89045578 0.88721752 0.88396376 0.88070095 0.87742954 0.87414438\n",
      " 0.87083799 0.86750126 0.86412627 0.86070508 0.85723209 0.85723209\n",
      " 0.85126436 0.84802836 0.84434998 0.84050596 0.83658642 0.83261734\n",
      " 0.82860881 0.82456523 0.82048643 0.81636864 0.81220514 0.80798769\n",
      " 0.80370873 0.79936022 0.79493642 0.79043216 0.78584361 0.78116852\n",
      " 0.77640432 0.7715503  0.76660478 0.76156718 0.7564351  0.75120687\n",
      " 0.74588037 0.74045241 0.73491973 0.72927922 0.72352672 0.7176587\n",
      " 0.71167088 0.70555896 0.69931871 0.69294602 0.68643641 0.67978549\n",
      " 0.6729883  0.6660406  0.65893745 0.65167403 0.64424503 0.63664496]\n",
      "12 day output [[0.6288685]]\n",
      "13 day input [0.78143207 0.6665963  0.7921557  0.64118044 0.68614371 0.66001013\n",
      " 0.65203074 0.58642236 0.56586169 0.66089673 0.65515494 0.70970193\n",
      " 0.66452757 0.69437642 0.69218104 0.63569197 0.65266402 0.63780292\n",
      " 0.7267162  0.71388162 0.74191506 0.75002111 0.77222832 0.83049059\n",
      " 0.8194292  0.8289707  0.8125475  0.78776492 0.75162543 0.78426074\n",
      " 0.77974331 0.81326522 0.8141096  0.79473106 0.83336148 0.85898843\n",
      " 0.83901883 0.85628641 0.87486279 0.88782403 0.90095415 0.92793211\n",
      " 0.948535   0.93333615 0.91746179 0.92544119 0.91771511 0.9483239\n",
      " 0.94064004 0.96635143 0.9563033  0.96491598 0.94691485 0.94439977\n",
      " 0.93932176 0.93424529 0.92982984 0.92616117 0.92316288 0.92069215\n",
      " 0.91857564 0.91663945 0.91473049 0.91273111 0.91056359 0.90819013\n",
      " 0.9056043  0.90282416 0.8998819  0.89681578 0.89366317 0.89045578\n",
      " 0.88721752 0.88396376 0.88070095 0.87742954 0.87414438 0.87083799\n",
      " 0.86750126 0.86412627 0.86070508 0.85723209 0.85723209 0.85126436\n",
      " 0.84802836 0.84434998 0.84050596 0.83658642 0.83261734 0.82860881\n",
      " 0.82456523 0.82048643 0.81636864 0.81220514 0.80798769 0.80370873\n",
      " 0.79936022 0.79493642 0.79043216 0.78584361 0.78116852 0.77640432\n",
      " 0.7715503  0.76660478 0.76156718 0.7564351  0.75120687 0.74588037\n",
      " 0.74045241 0.73491973 0.72927922 0.72352672 0.7176587  0.71167088\n",
      " 0.70555896 0.69931871 0.69294602 0.68643641 0.67978549 0.6729883\n",
      " 0.6660406  0.65893745 0.65167403 0.64424503 0.63664496 0.62886852]\n",
      "13 day output [[0.62091017]]\n",
      "14 day input [0.6665963  0.7921557  0.64118044 0.68614371 0.66001013 0.65203074\n",
      " 0.58642236 0.56586169 0.66089673 0.65515494 0.70970193 0.66452757\n",
      " 0.69437642 0.69218104 0.63569197 0.65266402 0.63780292 0.7267162\n",
      " 0.71388162 0.74191506 0.75002111 0.77222832 0.83049059 0.8194292\n",
      " 0.8289707  0.8125475  0.78776492 0.75162543 0.78426074 0.77974331\n",
      " 0.81326522 0.8141096  0.79473106 0.83336148 0.85898843 0.83901883\n",
      " 0.85628641 0.87486279 0.88782403 0.90095415 0.92793211 0.948535\n",
      " 0.93333615 0.91746179 0.92544119 0.91771511 0.9483239  0.94064004\n",
      " 0.96635143 0.9563033  0.96491598 0.94691485 0.94439977 0.93932176\n",
      " 0.93424529 0.92982984 0.92616117 0.92316288 0.92069215 0.91857564\n",
      " 0.91663945 0.91473049 0.91273111 0.91056359 0.90819013 0.9056043\n",
      " 0.90282416 0.8998819  0.89681578 0.89366317 0.89045578 0.88721752\n",
      " 0.88396376 0.88070095 0.87742954 0.87414438 0.87083799 0.86750126\n",
      " 0.86412627 0.86070508 0.85723209 0.85723209 0.85126436 0.84802836\n",
      " 0.84434998 0.84050596 0.83658642 0.83261734 0.82860881 0.82456523\n",
      " 0.82048643 0.81636864 0.81220514 0.80798769 0.80370873 0.79936022\n",
      " 0.79493642 0.79043216 0.78584361 0.78116852 0.77640432 0.7715503\n",
      " 0.76660478 0.76156718 0.7564351  0.75120687 0.74588037 0.74045241\n",
      " 0.73491973 0.72927922 0.72352672 0.7176587  0.71167088 0.70555896\n",
      " 0.69931871 0.69294602 0.68643641 0.67978549 0.6729883  0.6660406\n",
      " 0.65893745 0.65167403 0.64424503 0.63664496 0.62886852 0.62091017]\n",
      "14 day output [[0.612764]]\n",
      "15 day input [0.7921557  0.64118044 0.68614371 0.66001013 0.65203074 0.58642236\n",
      " 0.56586169 0.66089673 0.65515494 0.70970193 0.66452757 0.69437642\n",
      " 0.69218104 0.63569197 0.65266402 0.63780292 0.7267162  0.71388162\n",
      " 0.74191506 0.75002111 0.77222832 0.83049059 0.8194292  0.8289707\n",
      " 0.8125475  0.78776492 0.75162543 0.78426074 0.77974331 0.81326522\n",
      " 0.8141096  0.79473106 0.83336148 0.85898843 0.83901883 0.85628641\n",
      " 0.87486279 0.88782403 0.90095415 0.92793211 0.948535   0.93333615\n",
      " 0.91746179 0.92544119 0.91771511 0.9483239  0.94064004 0.96635143\n",
      " 0.9563033  0.96491598 0.94691485 0.94439977 0.93932176 0.93424529\n",
      " 0.92982984 0.92616117 0.92316288 0.92069215 0.91857564 0.91663945\n",
      " 0.91473049 0.91273111 0.91056359 0.90819013 0.9056043  0.90282416\n",
      " 0.8998819  0.89681578 0.89366317 0.89045578 0.88721752 0.88396376\n",
      " 0.88070095 0.87742954 0.87414438 0.87083799 0.86750126 0.86412627\n",
      " 0.86070508 0.85723209 0.85723209 0.85126436 0.84802836 0.84434998\n",
      " 0.84050596 0.83658642 0.83261734 0.82860881 0.82456523 0.82048643\n",
      " 0.81636864 0.81220514 0.80798769 0.80370873 0.79936022 0.79493642\n",
      " 0.79043216 0.78584361 0.78116852 0.77640432 0.7715503  0.76660478\n",
      " 0.76156718 0.7564351  0.75120687 0.74588037 0.74045241 0.73491973\n",
      " 0.72927922 0.72352672 0.7176587  0.71167088 0.70555896 0.69931871\n",
      " 0.69294602 0.68643641 0.67978549 0.6729883  0.6660406  0.65893745\n",
      " 0.65167403 0.64424503 0.63664496 0.62886852 0.62091017 0.612764  ]\n",
      "15 day output [[0.60442436]]\n",
      "16 day input [0.64118044 0.68614371 0.66001013 0.65203074 0.58642236 0.56586169\n",
      " 0.66089673 0.65515494 0.70970193 0.66452757 0.69437642 0.69218104\n",
      " 0.63569197 0.65266402 0.63780292 0.7267162  0.71388162 0.74191506\n",
      " 0.75002111 0.77222832 0.83049059 0.8194292  0.8289707  0.8125475\n",
      " 0.78776492 0.75162543 0.78426074 0.77974331 0.81326522 0.8141096\n",
      " 0.79473106 0.83336148 0.85898843 0.83901883 0.85628641 0.87486279\n",
      " 0.88782403 0.90095415 0.92793211 0.948535   0.93333615 0.91746179\n",
      " 0.92544119 0.91771511 0.9483239  0.94064004 0.96635143 0.9563033\n",
      " 0.96491598 0.94691485 0.94439977 0.93932176 0.93424529 0.92982984\n",
      " 0.92616117 0.92316288 0.92069215 0.91857564 0.91663945 0.91473049\n",
      " 0.91273111 0.91056359 0.90819013 0.9056043  0.90282416 0.8998819\n",
      " 0.89681578 0.89366317 0.89045578 0.88721752 0.88396376 0.88070095\n",
      " 0.87742954 0.87414438 0.87083799 0.86750126 0.86412627 0.86070508\n",
      " 0.85723209 0.85723209 0.85126436 0.84802836 0.84434998 0.84050596\n",
      " 0.83658642 0.83261734 0.82860881 0.82456523 0.82048643 0.81636864\n",
      " 0.81220514 0.80798769 0.80370873 0.79936022 0.79493642 0.79043216\n",
      " 0.78584361 0.78116852 0.77640432 0.7715503  0.76660478 0.76156718\n",
      " 0.7564351  0.75120687 0.74588037 0.74045241 0.73491973 0.72927922\n",
      " 0.72352672 0.7176587  0.71167088 0.70555896 0.69931871 0.69294602\n",
      " 0.68643641 0.67978549 0.6729883  0.6660406  0.65893745 0.65167403\n",
      " 0.64424503 0.63664496 0.62886852 0.62091017 0.612764   0.60442436]\n",
      "16 day output [[0.5958851]]\n",
      "17 day input [0.68614371 0.66001013 0.65203074 0.58642236 0.56586169 0.66089673\n",
      " 0.65515494 0.70970193 0.66452757 0.69437642 0.69218104 0.63569197\n",
      " 0.65266402 0.63780292 0.7267162  0.71388162 0.74191506 0.75002111\n",
      " 0.77222832 0.83049059 0.8194292  0.8289707  0.8125475  0.78776492\n",
      " 0.75162543 0.78426074 0.77974331 0.81326522 0.8141096  0.79473106\n",
      " 0.83336148 0.85898843 0.83901883 0.85628641 0.87486279 0.88782403\n",
      " 0.90095415 0.92793211 0.948535   0.93333615 0.91746179 0.92544119\n",
      " 0.91771511 0.9483239  0.94064004 0.96635143 0.9563033  0.96491598\n",
      " 0.94691485 0.94439977 0.93932176 0.93424529 0.92982984 0.92616117\n",
      " 0.92316288 0.92069215 0.91857564 0.91663945 0.91473049 0.91273111\n",
      " 0.91056359 0.90819013 0.9056043  0.90282416 0.8998819  0.89681578\n",
      " 0.89366317 0.89045578 0.88721752 0.88396376 0.88070095 0.87742954\n",
      " 0.87414438 0.87083799 0.86750126 0.86412627 0.86070508 0.85723209\n",
      " 0.85723209 0.85126436 0.84802836 0.84434998 0.84050596 0.83658642\n",
      " 0.83261734 0.82860881 0.82456523 0.82048643 0.81636864 0.81220514\n",
      " 0.80798769 0.80370873 0.79936022 0.79493642 0.79043216 0.78584361\n",
      " 0.78116852 0.77640432 0.7715503  0.76660478 0.76156718 0.7564351\n",
      " 0.75120687 0.74588037 0.74045241 0.73491973 0.72927922 0.72352672\n",
      " 0.7176587  0.71167088 0.70555896 0.69931871 0.69294602 0.68643641\n",
      " 0.67978549 0.6729883  0.6660406  0.65893745 0.65167403 0.64424503\n",
      " 0.63664496 0.62886852 0.62091017 0.612764   0.60442436 0.5958851 ]\n",
      "17 day output [[0.58714014]]\n",
      "18 day input [0.66001013 0.65203074 0.58642236 0.56586169 0.66089673 0.65515494\n",
      " 0.70970193 0.66452757 0.69437642 0.69218104 0.63569197 0.65266402\n",
      " 0.63780292 0.7267162  0.71388162 0.74191506 0.75002111 0.77222832\n",
      " 0.83049059 0.8194292  0.8289707  0.8125475  0.78776492 0.75162543\n",
      " 0.78426074 0.77974331 0.81326522 0.8141096  0.79473106 0.83336148\n",
      " 0.85898843 0.83901883 0.85628641 0.87486279 0.88782403 0.90095415\n",
      " 0.92793211 0.948535   0.93333615 0.91746179 0.92544119 0.91771511\n",
      " 0.9483239  0.94064004 0.96635143 0.9563033  0.96491598 0.94691485\n",
      " 0.94439977 0.93932176 0.93424529 0.92982984 0.92616117 0.92316288\n",
      " 0.92069215 0.91857564 0.91663945 0.91473049 0.91273111 0.91056359\n",
      " 0.90819013 0.9056043  0.90282416 0.8998819  0.89681578 0.89366317\n",
      " 0.89045578 0.88721752 0.88396376 0.88070095 0.87742954 0.87414438\n",
      " 0.87083799 0.86750126 0.86412627 0.86070508 0.85723209 0.85723209\n",
      " 0.85126436 0.84802836 0.84434998 0.84050596 0.83658642 0.83261734\n",
      " 0.82860881 0.82456523 0.82048643 0.81636864 0.81220514 0.80798769\n",
      " 0.80370873 0.79936022 0.79493642 0.79043216 0.78584361 0.78116852\n",
      " 0.77640432 0.7715503  0.76660478 0.76156718 0.7564351  0.75120687\n",
      " 0.74588037 0.74045241 0.73491973 0.72927922 0.72352672 0.7176587\n",
      " 0.71167088 0.70555896 0.69931871 0.69294602 0.68643641 0.67978549\n",
      " 0.6729883  0.6660406  0.65893745 0.65167403 0.64424503 0.63664496\n",
      " 0.62886852 0.62091017 0.612764   0.60442436 0.5958851  0.58714014]\n",
      "18 day output [[0.57818353]]\n",
      "19 day input [0.65203074 0.58642236 0.56586169 0.66089673 0.65515494 0.70970193\n",
      " 0.66452757 0.69437642 0.69218104 0.63569197 0.65266402 0.63780292\n",
      " 0.7267162  0.71388162 0.74191506 0.75002111 0.77222832 0.83049059\n",
      " 0.8194292  0.8289707  0.8125475  0.78776492 0.75162543 0.78426074\n",
      " 0.77974331 0.81326522 0.8141096  0.79473106 0.83336148 0.85898843\n",
      " 0.83901883 0.85628641 0.87486279 0.88782403 0.90095415 0.92793211\n",
      " 0.948535   0.93333615 0.91746179 0.92544119 0.91771511 0.9483239\n",
      " 0.94064004 0.96635143 0.9563033  0.96491598 0.94691485 0.94439977\n",
      " 0.93932176 0.93424529 0.92982984 0.92616117 0.92316288 0.92069215\n",
      " 0.91857564 0.91663945 0.91473049 0.91273111 0.91056359 0.90819013\n",
      " 0.9056043  0.90282416 0.8998819  0.89681578 0.89366317 0.89045578\n",
      " 0.88721752 0.88396376 0.88070095 0.87742954 0.87414438 0.87083799\n",
      " 0.86750126 0.86412627 0.86070508 0.85723209 0.85723209 0.85126436\n",
      " 0.84802836 0.84434998 0.84050596 0.83658642 0.83261734 0.82860881\n",
      " 0.82456523 0.82048643 0.81636864 0.81220514 0.80798769 0.80370873\n",
      " 0.79936022 0.79493642 0.79043216 0.78584361 0.78116852 0.77640432\n",
      " 0.7715503  0.76660478 0.76156718 0.7564351  0.75120687 0.74588037\n",
      " 0.74045241 0.73491973 0.72927922 0.72352672 0.7176587  0.71167088\n",
      " 0.70555896 0.69931871 0.69294602 0.68643641 0.67978549 0.6729883\n",
      " 0.6660406  0.65893745 0.65167403 0.64424503 0.63664496 0.62886852\n",
      " 0.62091017 0.612764   0.60442436 0.5958851  0.58714014 0.57818353]\n",
      "19 day output [[0.56900924]]\n",
      "20 day input [0.58642236 0.56586169 0.66089673 0.65515494 0.70970193 0.66452757\n",
      " 0.69437642 0.69218104 0.63569197 0.65266402 0.63780292 0.7267162\n",
      " 0.71388162 0.74191506 0.75002111 0.77222832 0.83049059 0.8194292\n",
      " 0.8289707  0.8125475  0.78776492 0.75162543 0.78426074 0.77974331\n",
      " 0.81326522 0.8141096  0.79473106 0.83336148 0.85898843 0.83901883\n",
      " 0.85628641 0.87486279 0.88782403 0.90095415 0.92793211 0.948535\n",
      " 0.93333615 0.91746179 0.92544119 0.91771511 0.9483239  0.94064004\n",
      " 0.96635143 0.9563033  0.96491598 0.94691485 0.94439977 0.93932176\n",
      " 0.93424529 0.92982984 0.92616117 0.92316288 0.92069215 0.91857564\n",
      " 0.91663945 0.91473049 0.91273111 0.91056359 0.90819013 0.9056043\n",
      " 0.90282416 0.8998819  0.89681578 0.89366317 0.89045578 0.88721752\n",
      " 0.88396376 0.88070095 0.87742954 0.87414438 0.87083799 0.86750126\n",
      " 0.86412627 0.86070508 0.85723209 0.85723209 0.85126436 0.84802836\n",
      " 0.84434998 0.84050596 0.83658642 0.83261734 0.82860881 0.82456523\n",
      " 0.82048643 0.81636864 0.81220514 0.80798769 0.80370873 0.79936022\n",
      " 0.79493642 0.79043216 0.78584361 0.78116852 0.77640432 0.7715503\n",
      " 0.76660478 0.76156718 0.7564351  0.75120687 0.74588037 0.74045241\n",
      " 0.73491973 0.72927922 0.72352672 0.7176587  0.71167088 0.70555896\n",
      " 0.69931871 0.69294602 0.68643641 0.67978549 0.6729883  0.6660406\n",
      " 0.65893745 0.65167403 0.64424503 0.63664496 0.62886852 0.62091017\n",
      " 0.612764   0.60442436 0.5958851  0.58714014 0.57818353 0.56900924]\n",
      "20 day output [[0.559611]]\n",
      "21 day input [0.56586169 0.66089673 0.65515494 0.70970193 0.66452757 0.69437642\n",
      " 0.69218104 0.63569197 0.65266402 0.63780292 0.7267162  0.71388162\n",
      " 0.74191506 0.75002111 0.77222832 0.83049059 0.8194292  0.8289707\n",
      " 0.8125475  0.78776492 0.75162543 0.78426074 0.77974331 0.81326522\n",
      " 0.8141096  0.79473106 0.83336148 0.85898843 0.83901883 0.85628641\n",
      " 0.87486279 0.88782403 0.90095415 0.92793211 0.948535   0.93333615\n",
      " 0.91746179 0.92544119 0.91771511 0.9483239  0.94064004 0.96635143\n",
      " 0.9563033  0.96491598 0.94691485 0.94439977 0.93932176 0.93424529\n",
      " 0.92982984 0.92616117 0.92316288 0.92069215 0.91857564 0.91663945\n",
      " 0.91473049 0.91273111 0.91056359 0.90819013 0.9056043  0.90282416\n",
      " 0.8998819  0.89681578 0.89366317 0.89045578 0.88721752 0.88396376\n",
      " 0.88070095 0.87742954 0.87414438 0.87083799 0.86750126 0.86412627\n",
      " 0.86070508 0.85723209 0.85723209 0.85126436 0.84802836 0.84434998\n",
      " 0.84050596 0.83658642 0.83261734 0.82860881 0.82456523 0.82048643\n",
      " 0.81636864 0.81220514 0.80798769 0.80370873 0.79936022 0.79493642\n",
      " 0.79043216 0.78584361 0.78116852 0.77640432 0.7715503  0.76660478\n",
      " 0.76156718 0.7564351  0.75120687 0.74588037 0.74045241 0.73491973\n",
      " 0.72927922 0.72352672 0.7176587  0.71167088 0.70555896 0.69931871\n",
      " 0.69294602 0.68643641 0.67978549 0.6729883  0.6660406  0.65893745\n",
      " 0.65167403 0.64424503 0.63664496 0.62886852 0.62091017 0.612764\n",
      " 0.60442436 0.5958851  0.58714014 0.57818353 0.56900924 0.55961102]\n",
      "21 day output [[0.54998296]]\n",
      "22 day input [0.66089673 0.65515494 0.70970193 0.66452757 0.69437642 0.69218104\n",
      " 0.63569197 0.65266402 0.63780292 0.7267162  0.71388162 0.74191506\n",
      " 0.75002111 0.77222832 0.83049059 0.8194292  0.8289707  0.8125475\n",
      " 0.78776492 0.75162543 0.78426074 0.77974331 0.81326522 0.8141096\n",
      " 0.79473106 0.83336148 0.85898843 0.83901883 0.85628641 0.87486279\n",
      " 0.88782403 0.90095415 0.92793211 0.948535   0.93333615 0.91746179\n",
      " 0.92544119 0.91771511 0.9483239  0.94064004 0.96635143 0.9563033\n",
      " 0.96491598 0.94691485 0.94439977 0.93932176 0.93424529 0.92982984\n",
      " 0.92616117 0.92316288 0.92069215 0.91857564 0.91663945 0.91473049\n",
      " 0.91273111 0.91056359 0.90819013 0.9056043  0.90282416 0.8998819\n",
      " 0.89681578 0.89366317 0.89045578 0.88721752 0.88396376 0.88070095\n",
      " 0.87742954 0.87414438 0.87083799 0.86750126 0.86412627 0.86070508\n",
      " 0.85723209 0.85723209 0.85126436 0.84802836 0.84434998 0.84050596\n",
      " 0.83658642 0.83261734 0.82860881 0.82456523 0.82048643 0.81636864\n",
      " 0.81220514 0.80798769 0.80370873 0.79936022 0.79493642 0.79043216\n",
      " 0.78584361 0.78116852 0.77640432 0.7715503  0.76660478 0.76156718\n",
      " 0.7564351  0.75120687 0.74588037 0.74045241 0.73491973 0.72927922\n",
      " 0.72352672 0.7176587  0.71167088 0.70555896 0.69931871 0.69294602\n",
      " 0.68643641 0.67978549 0.6729883  0.6660406  0.65893745 0.65167403\n",
      " 0.64424503 0.63664496 0.62886852 0.62091017 0.612764   0.60442436\n",
      " 0.5958851  0.58714014 0.57818353 0.56900924 0.55961102 0.54998296]\n",
      "22 day output [[0.54011947]]\n",
      "23 day input [0.65515494 0.70970193 0.66452757 0.69437642 0.69218104 0.63569197\n",
      " 0.65266402 0.63780292 0.7267162  0.71388162 0.74191506 0.75002111\n",
      " 0.77222832 0.83049059 0.8194292  0.8289707  0.8125475  0.78776492\n",
      " 0.75162543 0.78426074 0.77974331 0.81326522 0.8141096  0.79473106\n",
      " 0.83336148 0.85898843 0.83901883 0.85628641 0.87486279 0.88782403\n",
      " 0.90095415 0.92793211 0.948535   0.93333615 0.91746179 0.92544119\n",
      " 0.91771511 0.9483239  0.94064004 0.96635143 0.9563033  0.96491598\n",
      " 0.94691485 0.94439977 0.93932176 0.93424529 0.92982984 0.92616117\n",
      " 0.92316288 0.92069215 0.91857564 0.91663945 0.91473049 0.91273111\n",
      " 0.91056359 0.90819013 0.9056043  0.90282416 0.8998819  0.89681578\n",
      " 0.89366317 0.89045578 0.88721752 0.88396376 0.88070095 0.87742954\n",
      " 0.87414438 0.87083799 0.86750126 0.86412627 0.86070508 0.85723209\n",
      " 0.85723209 0.85126436 0.84802836 0.84434998 0.84050596 0.83658642\n",
      " 0.83261734 0.82860881 0.82456523 0.82048643 0.81636864 0.81220514\n",
      " 0.80798769 0.80370873 0.79936022 0.79493642 0.79043216 0.78584361\n",
      " 0.78116852 0.77640432 0.7715503  0.76660478 0.76156718 0.7564351\n",
      " 0.75120687 0.74588037 0.74045241 0.73491973 0.72927922 0.72352672\n",
      " 0.7176587  0.71167088 0.70555896 0.69931871 0.69294602 0.68643641\n",
      " 0.67978549 0.6729883  0.6660406  0.65893745 0.65167403 0.64424503\n",
      " 0.63664496 0.62886852 0.62091017 0.612764   0.60442436 0.5958851\n",
      " 0.58714014 0.57818353 0.56900924 0.55961102 0.54998296 0.54011947]\n",
      "23 day output [[0.53001493]]\n",
      "24 day input [0.70970193 0.66452757 0.69437642 0.69218104 0.63569197 0.65266402\n",
      " 0.63780292 0.7267162  0.71388162 0.74191506 0.75002111 0.77222832\n",
      " 0.83049059 0.8194292  0.8289707  0.8125475  0.78776492 0.75162543\n",
      " 0.78426074 0.77974331 0.81326522 0.8141096  0.79473106 0.83336148\n",
      " 0.85898843 0.83901883 0.85628641 0.87486279 0.88782403 0.90095415\n",
      " 0.92793211 0.948535   0.93333615 0.91746179 0.92544119 0.91771511\n",
      " 0.9483239  0.94064004 0.96635143 0.9563033  0.96491598 0.94691485\n",
      " 0.94439977 0.93932176 0.93424529 0.92982984 0.92616117 0.92316288\n",
      " 0.92069215 0.91857564 0.91663945 0.91473049 0.91273111 0.91056359\n",
      " 0.90819013 0.9056043  0.90282416 0.8998819  0.89681578 0.89366317\n",
      " 0.89045578 0.88721752 0.88396376 0.88070095 0.87742954 0.87414438\n",
      " 0.87083799 0.86750126 0.86412627 0.86070508 0.85723209 0.85723209\n",
      " 0.85126436 0.84802836 0.84434998 0.84050596 0.83658642 0.83261734\n",
      " 0.82860881 0.82456523 0.82048643 0.81636864 0.81220514 0.80798769\n",
      " 0.80370873 0.79936022 0.79493642 0.79043216 0.78584361 0.78116852\n",
      " 0.77640432 0.7715503  0.76660478 0.76156718 0.7564351  0.75120687\n",
      " 0.74588037 0.74045241 0.73491973 0.72927922 0.72352672 0.7176587\n",
      " 0.71167088 0.70555896 0.69931871 0.69294602 0.68643641 0.67978549\n",
      " 0.6729883  0.6660406  0.65893745 0.65167403 0.64424503 0.63664496\n",
      " 0.62886852 0.62091017 0.612764   0.60442436 0.5958851  0.58714014\n",
      " 0.57818353 0.56900924 0.55961102 0.54998296 0.54011947 0.53001493]\n",
      "24 day output [[0.51966435]]\n",
      "25 day input [0.66452757 0.69437642 0.69218104 0.63569197 0.65266402 0.63780292\n",
      " 0.7267162  0.71388162 0.74191506 0.75002111 0.77222832 0.83049059\n",
      " 0.8194292  0.8289707  0.8125475  0.78776492 0.75162543 0.78426074\n",
      " 0.77974331 0.81326522 0.8141096  0.79473106 0.83336148 0.85898843\n",
      " 0.83901883 0.85628641 0.87486279 0.88782403 0.90095415 0.92793211\n",
      " 0.948535   0.93333615 0.91746179 0.92544119 0.91771511 0.9483239\n",
      " 0.94064004 0.96635143 0.9563033  0.96491598 0.94691485 0.94439977\n",
      " 0.93932176 0.93424529 0.92982984 0.92616117 0.92316288 0.92069215\n",
      " 0.91857564 0.91663945 0.91473049 0.91273111 0.91056359 0.90819013\n",
      " 0.9056043  0.90282416 0.8998819  0.89681578 0.89366317 0.89045578\n",
      " 0.88721752 0.88396376 0.88070095 0.87742954 0.87414438 0.87083799\n",
      " 0.86750126 0.86412627 0.86070508 0.85723209 0.85723209 0.85126436\n",
      " 0.84802836 0.84434998 0.84050596 0.83658642 0.83261734 0.82860881\n",
      " 0.82456523 0.82048643 0.81636864 0.81220514 0.80798769 0.80370873\n",
      " 0.79936022 0.79493642 0.79043216 0.78584361 0.78116852 0.77640432\n",
      " 0.7715503  0.76660478 0.76156718 0.7564351  0.75120687 0.74588037\n",
      " 0.74045241 0.73491973 0.72927922 0.72352672 0.7176587  0.71167088\n",
      " 0.70555896 0.69931871 0.69294602 0.68643641 0.67978549 0.6729883\n",
      " 0.6660406  0.65893745 0.65167403 0.64424503 0.63664496 0.62886852\n",
      " 0.62091017 0.612764   0.60442436 0.5958851  0.58714014 0.57818353\n",
      " 0.56900924 0.55961102 0.54998296 0.54011947 0.53001493 0.51966435]\n",
      "25 day output [[0.5090633]]\n",
      "26 day input [0.69437642 0.69218104 0.63569197 0.65266402 0.63780292 0.7267162\n",
      " 0.71388162 0.74191506 0.75002111 0.77222832 0.83049059 0.8194292\n",
      " 0.8289707  0.8125475  0.78776492 0.75162543 0.78426074 0.77974331\n",
      " 0.81326522 0.8141096  0.79473106 0.83336148 0.85898843 0.83901883\n",
      " 0.85628641 0.87486279 0.88782403 0.90095415 0.92793211 0.948535\n",
      " 0.93333615 0.91746179 0.92544119 0.91771511 0.9483239  0.94064004\n",
      " 0.96635143 0.9563033  0.96491598 0.94691485 0.94439977 0.93932176\n",
      " 0.93424529 0.92982984 0.92616117 0.92316288 0.92069215 0.91857564\n",
      " 0.91663945 0.91473049 0.91273111 0.91056359 0.90819013 0.9056043\n",
      " 0.90282416 0.8998819  0.89681578 0.89366317 0.89045578 0.88721752\n",
      " 0.88396376 0.88070095 0.87742954 0.87414438 0.87083799 0.86750126\n",
      " 0.86412627 0.86070508 0.85723209 0.85723209 0.85126436 0.84802836\n",
      " 0.84434998 0.84050596 0.83658642 0.83261734 0.82860881 0.82456523\n",
      " 0.82048643 0.81636864 0.81220514 0.80798769 0.80370873 0.79936022\n",
      " 0.79493642 0.79043216 0.78584361 0.78116852 0.77640432 0.7715503\n",
      " 0.76660478 0.76156718 0.7564351  0.75120687 0.74588037 0.74045241\n",
      " 0.73491973 0.72927922 0.72352672 0.7176587  0.71167088 0.70555896\n",
      " 0.69931871 0.69294602 0.68643641 0.67978549 0.6729883  0.6660406\n",
      " 0.65893745 0.65167403 0.64424503 0.63664496 0.62886852 0.62091017\n",
      " 0.612764   0.60442436 0.5958851  0.58714014 0.57818353 0.56900924\n",
      " 0.55961102 0.54998296 0.54011947 0.53001493 0.51966435 0.5090633 ]\n",
      "26 day output [[0.4982078]]\n",
      "27 day input [0.69218104 0.63569197 0.65266402 0.63780292 0.7267162  0.71388162\n",
      " 0.74191506 0.75002111 0.77222832 0.83049059 0.8194292  0.8289707\n",
      " 0.8125475  0.78776492 0.75162543 0.78426074 0.77974331 0.81326522\n",
      " 0.8141096  0.79473106 0.83336148 0.85898843 0.83901883 0.85628641\n",
      " 0.87486279 0.88782403 0.90095415 0.92793211 0.948535   0.93333615\n",
      " 0.91746179 0.92544119 0.91771511 0.9483239  0.94064004 0.96635143\n",
      " 0.9563033  0.96491598 0.94691485 0.94439977 0.93932176 0.93424529\n",
      " 0.92982984 0.92616117 0.92316288 0.92069215 0.91857564 0.91663945\n",
      " 0.91473049 0.91273111 0.91056359 0.90819013 0.9056043  0.90282416\n",
      " 0.8998819  0.89681578 0.89366317 0.89045578 0.88721752 0.88396376\n",
      " 0.88070095 0.87742954 0.87414438 0.87083799 0.86750126 0.86412627\n",
      " 0.86070508 0.85723209 0.85723209 0.85126436 0.84802836 0.84434998\n",
      " 0.84050596 0.83658642 0.83261734 0.82860881 0.82456523 0.82048643\n",
      " 0.81636864 0.81220514 0.80798769 0.80370873 0.79936022 0.79493642\n",
      " 0.79043216 0.78584361 0.78116852 0.77640432 0.7715503  0.76660478\n",
      " 0.76156718 0.7564351  0.75120687 0.74588037 0.74045241 0.73491973\n",
      " 0.72927922 0.72352672 0.7176587  0.71167088 0.70555896 0.69931871\n",
      " 0.69294602 0.68643641 0.67978549 0.6729883  0.6660406  0.65893745\n",
      " 0.65167403 0.64424503 0.63664496 0.62886852 0.62091017 0.612764\n",
      " 0.60442436 0.5958851  0.58714014 0.57818353 0.56900924 0.55961102\n",
      " 0.54998296 0.54011947 0.53001493 0.51966435 0.5090633  0.49820781]\n",
      "27 day output [[0.48709512]]\n",
      "28 day input [0.63569197 0.65266402 0.63780292 0.7267162  0.71388162 0.74191506\n",
      " 0.75002111 0.77222832 0.83049059 0.8194292  0.8289707  0.8125475\n",
      " 0.78776492 0.75162543 0.78426074 0.77974331 0.81326522 0.8141096\n",
      " 0.79473106 0.83336148 0.85898843 0.83901883 0.85628641 0.87486279\n",
      " 0.88782403 0.90095415 0.92793211 0.948535   0.93333615 0.91746179\n",
      " 0.92544119 0.91771511 0.9483239  0.94064004 0.96635143 0.9563033\n",
      " 0.96491598 0.94691485 0.94439977 0.93932176 0.93424529 0.92982984\n",
      " 0.92616117 0.92316288 0.92069215 0.91857564 0.91663945 0.91473049\n",
      " 0.91273111 0.91056359 0.90819013 0.9056043  0.90282416 0.8998819\n",
      " 0.89681578 0.89366317 0.89045578 0.88721752 0.88396376 0.88070095\n",
      " 0.87742954 0.87414438 0.87083799 0.86750126 0.86412627 0.86070508\n",
      " 0.85723209 0.85723209 0.85126436 0.84802836 0.84434998 0.84050596\n",
      " 0.83658642 0.83261734 0.82860881 0.82456523 0.82048643 0.81636864\n",
      " 0.81220514 0.80798769 0.80370873 0.79936022 0.79493642 0.79043216\n",
      " 0.78584361 0.78116852 0.77640432 0.7715503  0.76660478 0.76156718\n",
      " 0.7564351  0.75120687 0.74588037 0.74045241 0.73491973 0.72927922\n",
      " 0.72352672 0.7176587  0.71167088 0.70555896 0.69931871 0.69294602\n",
      " 0.68643641 0.67978549 0.6729883  0.6660406  0.65893745 0.65167403\n",
      " 0.64424503 0.63664496 0.62886852 0.62091017 0.612764   0.60442436\n",
      " 0.5958851  0.58714014 0.57818353 0.56900924 0.55961102 0.54998296\n",
      " 0.54011947 0.53001493 0.51966435 0.5090633  0.49820781 0.48709512]\n",
      "28 day output [[0.47572324]]\n",
      "29 day input [0.65266402 0.63780292 0.7267162  0.71388162 0.74191506 0.75002111\n",
      " 0.77222832 0.83049059 0.8194292  0.8289707  0.8125475  0.78776492\n",
      " 0.75162543 0.78426074 0.77974331 0.81326522 0.8141096  0.79473106\n",
      " 0.83336148 0.85898843 0.83901883 0.85628641 0.87486279 0.88782403\n",
      " 0.90095415 0.92793211 0.948535   0.93333615 0.91746179 0.92544119\n",
      " 0.91771511 0.9483239  0.94064004 0.96635143 0.9563033  0.96491598\n",
      " 0.94691485 0.94439977 0.93932176 0.93424529 0.92982984 0.92616117\n",
      " 0.92316288 0.92069215 0.91857564 0.91663945 0.91473049 0.91273111\n",
      " 0.91056359 0.90819013 0.9056043  0.90282416 0.8998819  0.89681578\n",
      " 0.89366317 0.89045578 0.88721752 0.88396376 0.88070095 0.87742954\n",
      " 0.87414438 0.87083799 0.86750126 0.86412627 0.86070508 0.85723209\n",
      " 0.85723209 0.85126436 0.84802836 0.84434998 0.84050596 0.83658642\n",
      " 0.83261734 0.82860881 0.82456523 0.82048643 0.81636864 0.81220514\n",
      " 0.80798769 0.80370873 0.79936022 0.79493642 0.79043216 0.78584361\n",
      " 0.78116852 0.77640432 0.7715503  0.76660478 0.76156718 0.7564351\n",
      " 0.75120687 0.74588037 0.74045241 0.73491973 0.72927922 0.72352672\n",
      " 0.7176587  0.71167088 0.70555896 0.69931871 0.69294602 0.68643641\n",
      " 0.67978549 0.6729883  0.6660406  0.65893745 0.65167403 0.64424503\n",
      " 0.63664496 0.62886852 0.62091017 0.612764   0.60442436 0.5958851\n",
      " 0.58714014 0.57818353 0.56900924 0.55961102 0.54998296 0.54011947\n",
      " 0.53001493 0.51966435 0.5090633  0.49820781 0.48709512 0.47572324]\n",
      "29 day output [[0.46409234]]\n",
      "[[0.7116708755493164], [0.7055589556694031], [0.6993187069892883], [0.6929460167884827], [0.6864364147186279], [0.6797854900360107], [0.6729882955551147], [0.6660405993461609], [0.6589374542236328], [0.6516740322113037], [0.6442450284957886], [0.6366449594497681], [0.6288685202598572], [0.6209101676940918], [0.6127640008926392], [0.6044243574142456], [0.5958850979804993], [0.5871401429176331], [0.5781835317611694], [0.5690092444419861], [0.5596110224723816], [0.5499829649925232], [0.540119469165802], [0.5300149321556091], [0.5196643471717834], [0.5090633034706116], [0.49820780754089355], [0.4870951175689697], [0.4757232367992401], [0.46409234404563904]]\n"
     ]
    }
   ],
   "source": [
    "\n",
    "# demonstrate prediction for next 10 days\n",
    "from numpy import array\n",
    "\n",
    "lst_output=[]\n",
    "n_steps=126\n",
    "i=0\n",
    "while(i<30):\n",
    "    \n",
    "    if(len(temp_input)>126):\n",
    "        #print(temp_input)\n",
    "        x_input=np.array(temp_input[1:])\n",
    "        print(\"{} day input {}\".format(i,x_input))\n",
    "        x_input=x_input.reshape(1,-1)\n",
    "        x_input = x_input.reshape((1, n_steps, 1))\n",
    "        #print(x_input)\n",
    "        yhat = model.predict(x_input, verbose=0)\n",
    "        print(\"{} day output {}\".format(i,yhat))\n",
    "        temp_input.extend(yhat[0].tolist())\n",
    "        temp_input=temp_input[1:]\n",
    "        #print(temp_input)\n",
    "        lst_output.extend(yhat.tolist())\n",
    "        i=i+1\n",
    "    else:\n",
    "        x_input = x_input.reshape((1, n_steps,1))\n",
    "        yhat = model.predict(x_input, verbose=0)\n",
    "        print(yhat[0])\n",
    "        temp_input.extend(yhat[0].tolist())\n",
    "        print(len(temp_input))\n",
    "        lst_output.extend(yhat.tolist())\n",
    "        i=i+1\n",
    "    \n",
    "\n",
    "print(lst_output)"
   ]
  },
  {
   "cell_type": "code",
   "execution_count": 162,
   "metadata": {},
   "outputs": [
    {
     "data": {
      "text/plain": [
       "[<matplotlib.lines.Line2D at 0x2419d26fc80>]"
      ]
     },
     "execution_count": 162,
     "metadata": {},
     "output_type": "execute_result"
    },
    {
     "data": {
      "image/png": "[encoded data removed]",
      "text/plain": [
       "<Figure size 640x480 with 1 Axes>"
      ]
     },
     "metadata": {},
     "output_type": "display_data"
    }
   ],
   "source": [
    "plt.plot(day_new,scaler.inverse_transform(data[1132:]))\n",
    "plt.plot(day_pred,scaler.inverse_transform(lst_output))"
   ]
  },
  {
   "cell_type": "code",
   "execution_count": 164,
   "metadata": {},
   "outputs": [
    {
     "data": {
      "text/plain": [
       "[<matplotlib.lines.Line2D at 0x2419d2b3fb0>]"
      ]
     },
     "execution_count": 164,
     "metadata": {},
     "output_type": "execute_result"
    },
    {
     "data": {
      "image/png": "[encoded data removed]",
      "text/plain": [
       "<Figure size 640x480 with 1 Axes>"
      ]
     },
     "metadata": {},
     "output_type": "display_data"
    }
   ],
   "source": [
    "df3=data.tolist()\n",
    "df3.extend(lst_output)\n",
    "plt.plot(df3[1200:])"
   ]
  },
  {
   "cell_type": "code",
   "execution_count": 166,
   "metadata": {},
   "outputs": [],
   "source": [
    "df3=scaler.inverse_transform(df3).tolist()"
   ]
  },
  {
   "cell_type": "code",
   "execution_count": 168,
   "metadata": {},
   "outputs": [
    {
     "data": {
      "text/plain": [
       "[<matplotlib.lines.Line2D at 0x2419d4875c0>]"
      ]
     },
     "execution_count": 168,
     "metadata": {},
     "output_type": "execute_result"
    },
    {
     "data": {
      "image/png": "[encoded data removed]",
      "text/plain": [
       "<Figure size 640x480 with 1 Axes>"
      ]
     },
     "metadata": {},
     "output_type": "display_data"
    }
   ],
   "source": [
    "plt.plot(df3)"
   ]
  },
  {
   "cell_type": "code",
   "execution_count": null,
   "metadata": {},
   "outputs": [],
   "source": []
  },
  {
   "cell_type": "code",
   "execution_count": null,
   "metadata": {},
   "outputs": [],
   "source": []
  }
 ],
 "metadata": {
  "kernelspec": {
   "display_name": "Python 3 (ipykernel)",
   "language": "python",
   "name": "python3"
  },
  "language_info": {
   "codemirror_mode": {
    "name": "ipython",
    "version": 3
   },
   "file_extension": ".py",
   "mimetype": "text/x-python",
   "name": "python",
   "nbconvert_exporter": "python",
   "pygments_lexer": "ipython3",
   "version": "3.12.7"
  }
 },
 "nbformat": 4,
 "nbformat_minor": 4
}
